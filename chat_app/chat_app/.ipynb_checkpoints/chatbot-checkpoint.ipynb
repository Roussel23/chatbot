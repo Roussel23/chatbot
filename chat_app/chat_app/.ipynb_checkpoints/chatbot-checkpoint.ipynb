{
 "cells": [
  {
   "cell_type": "markdown",
   "id": "85d71603-0656-4199-a55f-5c2fccdbb378",
   "metadata": {},
   "source": [
    "# Projet: Chat permettant d\\'aider à se pre-inscrire en ligne\n"
   ]
  },
  {
   "cell_type": "markdown",
   "id": "31345151-726f-45bb-8022-3ed02f29ae91",
   "metadata": {},
   "source": [
    "Nous avons dans le fichier chatbot_dataset.csv des données de preinscription en ligne\n",
    "\n",
    "Le fichier contient les colonnes suivantes:\n",
    "    * id_chat: l'identifiant attribué à la question posée par l'utilisateur\n",
    "    * Username: le nom de l'utilisateur\n",
    "    * Question: Les questions posées par l'utilisateur\n",
    "    * Response: Les reponses aux questions de l'utilisateur \n",
    "    * Date: Date d'envoie de chacun des questions posées par l'utilisateur\n",
    "\n",
    "Nous allons analyser ces données pour répondre aux questions suivantes:\n",
    "    * Quel est le ou les personnes qui ont le ou les plus utilisé (s) ce chatbot pendant le mois de septembre ?\n",
    "    * A quelle heure les utilisateurs interagissent le plus avec le chabot ?\n",
    "    * A quelle heure les utilisateurs interagissent le moins avec le chabot ?\n",
    "    * Quels sont les utilisateurs qui n'ont pas obtenu de reponse à leur question ?\n",
    "    * Quels les utilisateus n'ayant posés aucune question ?\n",
    "    * Quels sont les questions les plus posées par l'utilsateur et pourquoi ?\n",
    "\n",
    "\n",
    "Nous allons accompagner nos solutions de visualisations pertinentes afin d' améliorer l'efficacité du chatbot le mois prochain.\n",
    "        \n",
    "\n"
   ]
  },
  {
   "cell_type": "markdown",
   "id": "70cd7a5f-822a-4baa-ad4a-2cbed0966538",
   "metadata": {},
   "source": [
    "### Importer les données\n"
   ]
  },
  {
   "cell_type": "code",
   "execution_count": 14,
   "id": "738f0fe4-90d2-4c80-a486-616eb26c5ae9",
   "metadata": {},
   "outputs": [],
   "source": [
    "import pandas as pd\n",
    "import matplotlib.pyplot as plt\n",
    "import seaborn as sns\n",
    "import numpy as np\n",
    "import os"
   ]
  },
  {
   "cell_type": "code",
   "execution_count": 15,
   "id": "490ca49c-240f-4f17-80ae-1d82b22fc578",
   "metadata": {},
   "outputs": [],
   "source": [
    "url = 'chatbot_dataset.csv'"
   ]
  },
  {
   "cell_type": "code",
   "execution_count": 16,
   "id": "51abed61-57b5-483e-bb37-2903bc634780",
   "metadata": {},
   "outputs": [
    {
     "data": {
      "text/html": [
       "<div>\n",
       "<style scoped>\n",
       "    .dataframe tbody tr th:only-of-type {\n",
       "        vertical-align: middle;\n",
       "    }\n",
       "\n",
       "    .dataframe tbody tr th {\n",
       "        vertical-align: top;\n",
       "    }\n",
       "\n",
       "    .dataframe thead th {\n",
       "        text-align: right;\n",
       "    }\n",
       "</style>\n",
       "<table border=\"1\" class=\"dataframe\">\n",
       "  <thead>\n",
       "    <tr style=\"text-align: right;\">\n",
       "      <th></th>\n",
       "      <th>username</th>\n",
       "      <th>question</th>\n",
       "      <th>response</th>\n",
       "      <th>date</th>\n",
       "    </tr>\n",
       "    <tr>\n",
       "      <th>id</th>\n",
       "      <th></th>\n",
       "      <th></th>\n",
       "      <th></th>\n",
       "      <th></th>\n",
       "    </tr>\n",
       "  </thead>\n",
       "  <tbody>\n",
       "    <tr>\n",
       "      <th>1</th>\n",
       "      <td>Amadou</td>\n",
       "      <td>Qu'est ce que ce chatbot ?</td>\n",
       "      <td>Ce chatbot est concu pour vous aider à vous pr...</td>\n",
       "      <td>09/02/24 03:32 PM</td>\n",
       "    </tr>\n",
       "    <tr>\n",
       "      <th>2</th>\n",
       "      <td>Andre</td>\n",
       "      <td>Comment fonctionne ce chabot ?</td>\n",
       "      <td>ce chatbot vous pose des questions pour collec...</td>\n",
       "      <td>09/15/24</td>\n",
       "    </tr>\n",
       "    <tr>\n",
       "      <th>3</th>\n",
       "      <td>Esther</td>\n",
       "      <td>Comment fonctionne ce chabot ?</td>\n",
       "      <td>ce chatbotbot vous pose des questions pour col...</td>\n",
       "      <td>09/28/24 09:19 PM</td>\n",
       "    </tr>\n",
       "    <tr>\n",
       "      <th>4</th>\n",
       "      <td>Corinne</td>\n",
       "      <td>Quels sont les avantages de l'utilisation de c...</td>\n",
       "      <td>ce chatbot vous permet de vous preinscrire rap...</td>\n",
       "      <td>09/09/24 03:56 AM</td>\n",
       "    </tr>\n",
       "    <tr>\n",
       "      <th>5</th>\n",
       "      <td>Yannick</td>\n",
       "      <td>Qu'est ce que ce chatbot ?</td>\n",
       "      <td>Ce chatbot est concu pour vous aider à vous pr...</td>\n",
       "      <td>09/21/24 05:09 PM</td>\n",
       "    </tr>\n",
       "    <tr>\n",
       "      <th>...</th>\n",
       "      <td>...</td>\n",
       "      <td>...</td>\n",
       "      <td>...</td>\n",
       "      <td>...</td>\n",
       "    </tr>\n",
       "    <tr>\n",
       "      <th>66</th>\n",
       "      <td>Celistin</td>\n",
       "      <td>Puis -je me preinscrire en ligne si je suis á ...</td>\n",
       "      <td>Oui, vous pouvez vous preinscrire depuis n'imp...</td>\n",
       "      <td>09/01/24 10:37 PM</td>\n",
       "    </tr>\n",
       "    <tr>\n",
       "      <th>67</th>\n",
       "      <td>Gabriel</td>\n",
       "      <td>NaN</td>\n",
       "      <td>Bienvenue dans note communauté! Nous sommes he...</td>\n",
       "      <td>09/22/24 07:01 AM</td>\n",
       "    </tr>\n",
       "    <tr>\n",
       "      <th>68</th>\n",
       "      <td>Ange</td>\n",
       "      <td>Combien de temps prend la verification des doc...</td>\n",
       "      <td>La verification des documents prend environ 3-...</td>\n",
       "      <td>09/06/24 08:03 PM</td>\n",
       "    </tr>\n",
       "    <tr>\n",
       "      <th>69</th>\n",
       "      <td>Alexandre</td>\n",
       "      <td>Combien de temps prend la procedure de visa ?</td>\n",
       "      <td>NaN</td>\n",
       "      <td>09/29/24 10:05 AM</td>\n",
       "    </tr>\n",
       "    <tr>\n",
       "      <th>70</th>\n",
       "      <td>Ismael</td>\n",
       "      <td>Puis-je annuler ma preinscription ?</td>\n",
       "      <td>Oui, vous pouvez annuker votre preinscription ...</td>\n",
       "      <td>09/24/24 04:09 AM</td>\n",
       "    </tr>\n",
       "  </tbody>\n",
       "</table>\n",
       "<p>70 rows × 4 columns</p>\n",
       "</div>"
      ],
      "text/plain": [
       "     username                                           question  \\\n",
       "id                                                                 \n",
       "1      Amadou                         Qu'est ce que ce chatbot ?   \n",
       "2       Andre                     Comment fonctionne ce chabot ?   \n",
       "3      Esther                     Comment fonctionne ce chabot ?   \n",
       "4     Corinne  Quels sont les avantages de l'utilisation de c...   \n",
       "5     Yannick                         Qu'est ce que ce chatbot ?   \n",
       "..        ...                                                ...   \n",
       "66   Celistin  Puis -je me preinscrire en ligne si je suis á ...   \n",
       "67    Gabriel                                                NaN   \n",
       "68       Ange  Combien de temps prend la verification des doc...   \n",
       "69  Alexandre      Combien de temps prend la procedure de visa ?   \n",
       "70     Ismael                Puis-je annuler ma preinscription ?   \n",
       "\n",
       "                                             response               date  \n",
       "id                                                                        \n",
       "1   Ce chatbot est concu pour vous aider à vous pr...  09/02/24 03:32 PM  \n",
       "2   ce chatbot vous pose des questions pour collec...           09/15/24  \n",
       "3   ce chatbotbot vous pose des questions pour col...  09/28/24 09:19 PM  \n",
       "4   ce chatbot vous permet de vous preinscrire rap...  09/09/24 03:56 AM  \n",
       "5   Ce chatbot est concu pour vous aider à vous pr...  09/21/24 05:09 PM  \n",
       "..                                                ...                ...  \n",
       "66  Oui, vous pouvez vous preinscrire depuis n'imp...  09/01/24 10:37 PM  \n",
       "67  Bienvenue dans note communauté! Nous sommes he...  09/22/24 07:01 AM  \n",
       "68  La verification des documents prend environ 3-...  09/06/24 08:03 PM  \n",
       "69                                                NaN  09/29/24 10:05 AM  \n",
       "70  Oui, vous pouvez annuker votre preinscription ...  09/24/24 04:09 AM  \n",
       "\n",
       "[70 rows x 4 columns]"
      ]
     },
     "execution_count": 16,
     "metadata": {},
     "output_type": "execute_result"
    }
   ],
   "source": [
    "data = pd.read_csv(url,index_col=0, encoding = \"ISO-8859-1\")\n",
    "data"
   ]
  },
  {
   "cell_type": "code",
   "execution_count": 17,
   "id": "3ab33c3c-4918-4751-945f-8a383aeafca0",
   "metadata": {},
   "outputs": [
    {
     "data": {
      "text/html": [
       "<div>\n",
       "<style scoped>\n",
       "    .dataframe tbody tr th:only-of-type {\n",
       "        vertical-align: middle;\n",
       "    }\n",
       "\n",
       "    .dataframe tbody tr th {\n",
       "        vertical-align: top;\n",
       "    }\n",
       "\n",
       "    .dataframe thead th {\n",
       "        text-align: right;\n",
       "    }\n",
       "</style>\n",
       "<table border=\"1\" class=\"dataframe\">\n",
       "  <thead>\n",
       "    <tr style=\"text-align: right;\">\n",
       "      <th></th>\n",
       "      <th>username</th>\n",
       "      <th>question</th>\n",
       "      <th>response</th>\n",
       "      <th>date</th>\n",
       "    </tr>\n",
       "    <tr>\n",
       "      <th>id</th>\n",
       "      <th></th>\n",
       "      <th></th>\n",
       "      <th></th>\n",
       "      <th></th>\n",
       "    </tr>\n",
       "  </thead>\n",
       "  <tbody>\n",
       "    <tr>\n",
       "      <th>1</th>\n",
       "      <td>Amadou</td>\n",
       "      <td>Qu'est ce que ce chatbot ?</td>\n",
       "      <td>Ce chatbot est concu pour vous aider à vous pr...</td>\n",
       "      <td>09/02/24 03:32 PM</td>\n",
       "    </tr>\n",
       "    <tr>\n",
       "      <th>2</th>\n",
       "      <td>Andre</td>\n",
       "      <td>Comment fonctionne ce chabot ?</td>\n",
       "      <td>ce chatbot vous pose des questions pour collec...</td>\n",
       "      <td>09/15/24</td>\n",
       "    </tr>\n",
       "    <tr>\n",
       "      <th>3</th>\n",
       "      <td>Esther</td>\n",
       "      <td>Comment fonctionne ce chabot ?</td>\n",
       "      <td>ce chatbotbot vous pose des questions pour col...</td>\n",
       "      <td>09/28/24 09:19 PM</td>\n",
       "    </tr>\n",
       "    <tr>\n",
       "      <th>4</th>\n",
       "      <td>Corinne</td>\n",
       "      <td>Quels sont les avantages de l'utilisation de c...</td>\n",
       "      <td>ce chatbot vous permet de vous preinscrire rap...</td>\n",
       "      <td>09/09/24 03:56 AM</td>\n",
       "    </tr>\n",
       "    <tr>\n",
       "      <th>5</th>\n",
       "      <td>Yannick</td>\n",
       "      <td>Qu'est ce que ce chatbot ?</td>\n",
       "      <td>Ce chatbot est concu pour vous aider à vous pr...</td>\n",
       "      <td>09/21/24 05:09 PM</td>\n",
       "    </tr>\n",
       "  </tbody>\n",
       "</table>\n",
       "</div>"
      ],
      "text/plain": [
       "   username                                           question  \\\n",
       "id                                                               \n",
       "1    Amadou                         Qu'est ce que ce chatbot ?   \n",
       "2     Andre                     Comment fonctionne ce chabot ?   \n",
       "3    Esther                     Comment fonctionne ce chabot ?   \n",
       "4   Corinne  Quels sont les avantages de l'utilisation de c...   \n",
       "5   Yannick                         Qu'est ce que ce chatbot ?   \n",
       "\n",
       "                                             response               date  \n",
       "id                                                                        \n",
       "1   Ce chatbot est concu pour vous aider à vous pr...  09/02/24 03:32 PM  \n",
       "2   ce chatbot vous pose des questions pour collec...           09/15/24  \n",
       "3   ce chatbotbot vous pose des questions pour col...  09/28/24 09:19 PM  \n",
       "4   ce chatbot vous permet de vous preinscrire rap...  09/09/24 03:56 AM  \n",
       "5   Ce chatbot est concu pour vous aider à vous pr...  09/21/24 05:09 PM  "
      ]
     },
     "execution_count": 17,
     "metadata": {},
     "output_type": "execute_result"
    }
   ],
   "source": [
    "data.head()"
   ]
  },
  {
   "cell_type": "code",
   "execution_count": 18,
   "id": "8d07091f-f92b-4777-931c-e5e18a3ed314",
   "metadata": {},
   "outputs": [
    {
     "data": {
      "text/html": [
       "<div>\n",
       "<style scoped>\n",
       "    .dataframe tbody tr th:only-of-type {\n",
       "        vertical-align: middle;\n",
       "    }\n",
       "\n",
       "    .dataframe tbody tr th {\n",
       "        vertical-align: top;\n",
       "    }\n",
       "\n",
       "    .dataframe thead th {\n",
       "        text-align: right;\n",
       "    }\n",
       "</style>\n",
       "<table border=\"1\" class=\"dataframe\">\n",
       "  <thead>\n",
       "    <tr style=\"text-align: right;\">\n",
       "      <th></th>\n",
       "      <th>username</th>\n",
       "      <th>question</th>\n",
       "      <th>response</th>\n",
       "      <th>date</th>\n",
       "    </tr>\n",
       "  </thead>\n",
       "  <tbody>\n",
       "    <tr>\n",
       "      <th>count</th>\n",
       "      <td>70</td>\n",
       "      <td>60</td>\n",
       "      <td>59</td>\n",
       "      <td>70</td>\n",
       "    </tr>\n",
       "    <tr>\n",
       "      <th>unique</th>\n",
       "      <td>46</td>\n",
       "      <td>23</td>\n",
       "      <td>28</td>\n",
       "      <td>60</td>\n",
       "    </tr>\n",
       "    <tr>\n",
       "      <th>top</th>\n",
       "      <td>Gabriel</td>\n",
       "      <td>Quels sont les avantages de l'utilisation de c...</td>\n",
       "      <td>ce chatbot vous permet de vous preinscrire rap...</td>\n",
       "      <td>09/18/24 12:28 AM</td>\n",
       "    </tr>\n",
       "    <tr>\n",
       "      <th>freq</th>\n",
       "      <td>4</td>\n",
       "      <td>10</td>\n",
       "      <td>10</td>\n",
       "      <td>6</td>\n",
       "    </tr>\n",
       "  </tbody>\n",
       "</table>\n",
       "</div>"
      ],
      "text/plain": [
       "       username                                           question  \\\n",
       "count        70                                                 60   \n",
       "unique       46                                                 23   \n",
       "top     Gabriel  Quels sont les avantages de l'utilisation de c...   \n",
       "freq          4                                                 10   \n",
       "\n",
       "                                                 response               date  \n",
       "count                                                  59                 70  \n",
       "unique                                                 28                 60  \n",
       "top     ce chatbot vous permet de vous preinscrire rap...  09/18/24 12:28 AM  \n",
       "freq                                                   10                  6  "
      ]
     },
     "execution_count": 18,
     "metadata": {},
     "output_type": "execute_result"
    }
   ],
   "source": [
    "data.describe()"
   ]
  },
  {
   "cell_type": "code",
   "execution_count": 19,
   "id": "4a187802-4049-4d5b-90a6-f90cdfe68450",
   "metadata": {},
   "outputs": [
    {
     "data": {
      "text/plain": [
       "Index(['username', 'question', 'response', 'date'], dtype='object')"
      ]
     },
     "execution_count": 19,
     "metadata": {},
     "output_type": "execute_result"
    }
   ],
   "source": [
    "data.columns"
   ]
  },
  {
   "cell_type": "code",
   "execution_count": 20,
   "id": "871cbbd4-d913-4ed3-8871-f059ece6a0d6",
   "metadata": {},
   "outputs": [
    {
     "name": "stdout",
     "output_type": "stream",
     "text": [
      "<class 'pandas.core.frame.DataFrame'>\n",
      "Index: 70 entries, 1 to 70\n",
      "Data columns (total 4 columns):\n",
      " #   Column    Non-Null Count  Dtype \n",
      "---  ------    --------------  ----- \n",
      " 0   username  70 non-null     object\n",
      " 1   question  60 non-null     object\n",
      " 2   response  59 non-null     object\n",
      " 3   date      70 non-null     object\n",
      "dtypes: object(4)\n",
      "memory usage: 2.7+ KB\n"
     ]
    }
   ],
   "source": [
    "data.info()"
   ]
  },
  {
   "cell_type": "code",
   "execution_count": 21,
   "id": "a53d09c1-bb5b-49a9-b546-3ed5e9e1b5c5",
   "metadata": {},
   "outputs": [
    {
     "data": {
      "text/plain": [
       "<bound method NDFrame.copy of      username                                           question  \\\n",
       "id                                                                 \n",
       "1      Amadou                         Qu'est ce que ce chatbot ?   \n",
       "2       Andre                     Comment fonctionne ce chabot ?   \n",
       "3      Esther                     Comment fonctionne ce chabot ?   \n",
       "4     Corinne  Quels sont les avantages de l'utilisation de c...   \n",
       "5     Yannick                         Qu'est ce que ce chatbot ?   \n",
       "..        ...                                                ...   \n",
       "66   Celistin  Puis -je me preinscrire en ligne si je suis á ...   \n",
       "67    Gabriel                                                NaN   \n",
       "68       Ange  Combien de temps prend la verification des doc...   \n",
       "69  Alexandre      Combien de temps prend la procedure de visa ?   \n",
       "70     Ismael                Puis-je annuler ma preinscription ?   \n",
       "\n",
       "                                             response               date  \n",
       "id                                                                        \n",
       "1   Ce chatbot est concu pour vous aider à vous pr...  09/02/24 03:32 PM  \n",
       "2   ce chatbot vous pose des questions pour collec...           09/15/24  \n",
       "3   ce chatbotbot vous pose des questions pour col...  09/28/24 09:19 PM  \n",
       "4   ce chatbot vous permet de vous preinscrire rap...  09/09/24 03:56 AM  \n",
       "5   Ce chatbot est concu pour vous aider à vous pr...  09/21/24 05:09 PM  \n",
       "..                                                ...                ...  \n",
       "66  Oui, vous pouvez vous preinscrire depuis n'imp...  09/01/24 10:37 PM  \n",
       "67  Bienvenue dans note communauté! Nous sommes he...  09/22/24 07:01 AM  \n",
       "68  La verification des documents prend environ 3-...  09/06/24 08:03 PM  \n",
       "69                                                NaN  09/29/24 10:05 AM  \n",
       "70  Oui, vous pouvez annuker votre preinscription ...  09/24/24 04:09 AM  \n",
       "\n",
       "[70 rows x 4 columns]>"
      ]
     },
     "execution_count": 21,
     "metadata": {},
     "output_type": "execute_result"
    }
   ],
   "source": [
    "data_copy = data.copy\n",
    "data_copy"
   ]
  },
  {
   "cell_type": "markdown",
   "id": "69e2ec89-8933-4728-b347-3b6ddac376ae",
   "metadata": {},
   "source": [
    "## Nettoyage de la data"
   ]
  },
  {
   "cell_type": "code",
   "execution_count": 22,
   "id": "5355bb88-35ad-49b1-94c0-755cc9bcb476",
   "metadata": {},
   "outputs": [
    {
     "data": {
      "text/plain": [
       "username     0\n",
       "question    10\n",
       "response    11\n",
       "date         0\n",
       "dtype: int64"
      ]
     },
     "execution_count": 22,
     "metadata": {},
     "output_type": "execute_result"
    }
   ],
   "source": [
    "data.isnull().sum(axis=0)"
   ]
  },
  {
   "cell_type": "markdown",
   "id": "cfaa53eb-3fb0-4555-b0f1-818b0e41fedf",
   "metadata": {},
   "source": [
    "## Affichons un data avec toutes les lignes qui ont au moins une valeur manquante"
   ]
  },
  {
   "cell_type": "code",
   "execution_count": 23,
   "id": "7513c4d7-b087-4c3b-ae9f-8f2ef81d8b54",
   "metadata": {},
   "outputs": [
    {
     "data": {
      "text/html": [
       "<div>\n",
       "<style scoped>\n",
       "    .dataframe tbody tr th:only-of-type {\n",
       "        vertical-align: middle;\n",
       "    }\n",
       "\n",
       "    .dataframe tbody tr th {\n",
       "        vertical-align: top;\n",
       "    }\n",
       "\n",
       "    .dataframe thead th {\n",
       "        text-align: right;\n",
       "    }\n",
       "</style>\n",
       "<table border=\"1\" class=\"dataframe\">\n",
       "  <thead>\n",
       "    <tr style=\"text-align: right;\">\n",
       "      <th></th>\n",
       "      <th>username</th>\n",
       "      <th>question</th>\n",
       "      <th>response</th>\n",
       "      <th>date</th>\n",
       "    </tr>\n",
       "    <tr>\n",
       "      <th>id</th>\n",
       "      <th></th>\n",
       "      <th></th>\n",
       "      <th></th>\n",
       "      <th></th>\n",
       "    </tr>\n",
       "  </thead>\n",
       "  <tbody>\n",
       "    <tr>\n",
       "      <th>10</th>\n",
       "      <td>Isabelle</td>\n",
       "      <td>Puis-je annuler ma preinscription ?</td>\n",
       "      <td>NaN</td>\n",
       "      <td>09/24/24 04:20 AM</td>\n",
       "    </tr>\n",
       "    <tr>\n",
       "      <th>19</th>\n",
       "      <td>Valerie</td>\n",
       "      <td>Le chatbot ne fonctionne pas</td>\n",
       "      <td>NaN</td>\n",
       "      <td>09/02/24 01:45 AM</td>\n",
       "    </tr>\n",
       "    <tr>\n",
       "      <th>25</th>\n",
       "      <td>Koffi</td>\n",
       "      <td>NaN</td>\n",
       "      <td>Bonjour ! Bienvenue ans notre chatbot de prein...</td>\n",
       "      <td>09/15/24 08:48 AM</td>\n",
       "    </tr>\n",
       "    <tr>\n",
       "      <th>26</th>\n",
       "      <td>Michel</td>\n",
       "      <td>Comment puis-je payer les frais de scolarité ?</td>\n",
       "      <td>NaN</td>\n",
       "      <td>09/15/24 06:20 PM</td>\n",
       "    </tr>\n",
       "    <tr>\n",
       "      <th>27</th>\n",
       "      <td>Aicha</td>\n",
       "      <td>NaN</td>\n",
       "      <td>Salut ! Nous sommes ravis de vous aider a vous...</td>\n",
       "      <td>09/25/24 12:05 AM</td>\n",
       "    </tr>\n",
       "    <tr>\n",
       "      <th>29</th>\n",
       "      <td>Claire</td>\n",
       "      <td>NaN</td>\n",
       "      <td>NaN</td>\n",
       "      <td>09/13/24 01:10 PM</td>\n",
       "    </tr>\n",
       "    <tr>\n",
       "      <th>30</th>\n",
       "      <td>Sylvie</td>\n",
       "      <td>Quels sont les criteres d'accessibilité pour l...</td>\n",
       "      <td>NaN</td>\n",
       "      <td>09/14/24 10:00 AM</td>\n",
       "    </tr>\n",
       "    <tr>\n",
       "      <th>33</th>\n",
       "      <td>Serge</td>\n",
       "      <td>J'ai des problemes pour telecharger mes docume...</td>\n",
       "      <td>NaN</td>\n",
       "      <td>09/02/24 03:32 PM</td>\n",
       "    </tr>\n",
       "    <tr>\n",
       "      <th>34</th>\n",
       "      <td>Eric</td>\n",
       "      <td>Comment je serai informe de la decision relati...</td>\n",
       "      <td>NaN</td>\n",
       "      <td>09/25/24 04:00 PM</td>\n",
       "    </tr>\n",
       "    <tr>\n",
       "      <th>35</th>\n",
       "      <td>Celestion</td>\n",
       "      <td>NaN</td>\n",
       "      <td>Hello ! Comment puis-je vous aider aujourd'hui ?</td>\n",
       "      <td>09/18/24 12:28 AM</td>\n",
       "    </tr>\n",
       "    <tr>\n",
       "      <th>38</th>\n",
       "      <td>Jean-pierre</td>\n",
       "      <td>NaN</td>\n",
       "      <td>Hello ! Comment puis-je vous aider aujourd'hui ?</td>\n",
       "      <td>09/24/24 01:51 PM</td>\n",
       "    </tr>\n",
       "    <tr>\n",
       "      <th>41</th>\n",
       "      <td>Leonce</td>\n",
       "      <td>Quels sont les scores minimuns requis pour les...</td>\n",
       "      <td>NaN</td>\n",
       "      <td>09/18/24 12:28 AM</td>\n",
       "    </tr>\n",
       "    <tr>\n",
       "      <th>45</th>\n",
       "      <td>Marie</td>\n",
       "      <td>Puis je preinscrire si je n'ai pas de diplome ...</td>\n",
       "      <td>NaN</td>\n",
       "      <td>09/15/24 08:50 AM</td>\n",
       "    </tr>\n",
       "    <tr>\n",
       "      <th>50</th>\n",
       "      <td>Tangay</td>\n",
       "      <td>NaN</td>\n",
       "      <td>Enchante ! Nous sommes ici pour vous aider à r...</td>\n",
       "      <td>09/05/24 11:22 AM</td>\n",
       "    </tr>\n",
       "    <tr>\n",
       "      <th>52</th>\n",
       "      <td>Michel</td>\n",
       "      <td>Puis je preinscrire si je n'ai pas de diplome ...</td>\n",
       "      <td>NaN</td>\n",
       "      <td>09/14/24 02:34 PM</td>\n",
       "    </tr>\n",
       "    <tr>\n",
       "      <th>54</th>\n",
       "      <td>Felix</td>\n",
       "      <td>NaN</td>\n",
       "      <td>Bonjour ! Bienvenue ans notre chatbot de prein...</td>\n",
       "      <td>09/17/24 12:00 AM</td>\n",
       "    </tr>\n",
       "    <tr>\n",
       "      <th>57</th>\n",
       "      <td>Thierry</td>\n",
       "      <td>NaN</td>\n",
       "      <td>Hello ! Comment puis-je vous aider aujourd'hui ?</td>\n",
       "      <td>09/22/24 08:10 PM</td>\n",
       "    </tr>\n",
       "    <tr>\n",
       "      <th>62</th>\n",
       "      <td>David</td>\n",
       "      <td>NaN</td>\n",
       "      <td>Enchante ! Nous sommes ici pour vous aider à r...</td>\n",
       "      <td>09/15/24 08:17 AM</td>\n",
       "    </tr>\n",
       "    <tr>\n",
       "      <th>67</th>\n",
       "      <td>Gabriel</td>\n",
       "      <td>NaN</td>\n",
       "      <td>Bienvenue dans note communauté! Nous sommes he...</td>\n",
       "      <td>09/22/24 07:01 AM</td>\n",
       "    </tr>\n",
       "    <tr>\n",
       "      <th>69</th>\n",
       "      <td>Alexandre</td>\n",
       "      <td>Combien de temps prend la procedure de visa ?</td>\n",
       "      <td>NaN</td>\n",
       "      <td>09/29/24 10:05 AM</td>\n",
       "    </tr>\n",
       "  </tbody>\n",
       "</table>\n",
       "</div>"
      ],
      "text/plain": [
       "       username                                           question  \\\n",
       "id                                                                   \n",
       "10     Isabelle                Puis-je annuler ma preinscription ?   \n",
       "19      Valerie                       Le chatbot ne fonctionne pas   \n",
       "25        Koffi                                                NaN   \n",
       "26       Michel     Comment puis-je payer les frais de scolarité ?   \n",
       "27        Aicha                                                NaN   \n",
       "29       Claire                                                NaN   \n",
       "30       Sylvie  Quels sont les criteres d'accessibilité pour l...   \n",
       "33        Serge  J'ai des problemes pour telecharger mes docume...   \n",
       "34         Eric  Comment je serai informe de la decision relati...   \n",
       "35    Celestion                                                NaN   \n",
       "38  Jean-pierre                                                NaN   \n",
       "41       Leonce  Quels sont les scores minimuns requis pour les...   \n",
       "45        Marie  Puis je preinscrire si je n'ai pas de diplome ...   \n",
       "50       Tangay                                                NaN   \n",
       "52       Michel  Puis je preinscrire si je n'ai pas de diplome ...   \n",
       "54        Felix                                                NaN   \n",
       "57      Thierry                                                NaN   \n",
       "62        David                                                NaN   \n",
       "67      Gabriel                                                NaN   \n",
       "69    Alexandre      Combien de temps prend la procedure de visa ?   \n",
       "\n",
       "                                             response               date  \n",
       "id                                                                        \n",
       "10                                                NaN  09/24/24 04:20 AM  \n",
       "19                                                NaN  09/02/24 01:45 AM  \n",
       "25  Bonjour ! Bienvenue ans notre chatbot de prein...  09/15/24 08:48 AM  \n",
       "26                                                NaN  09/15/24 06:20 PM  \n",
       "27  Salut ! Nous sommes ravis de vous aider a vous...  09/25/24 12:05 AM  \n",
       "29                                                NaN  09/13/24 01:10 PM  \n",
       "30                                                NaN  09/14/24 10:00 AM  \n",
       "33                                                NaN  09/02/24 03:32 PM  \n",
       "34                                                NaN  09/25/24 04:00 PM  \n",
       "35   Hello ! Comment puis-je vous aider aujourd'hui ?  09/18/24 12:28 AM  \n",
       "38   Hello ! Comment puis-je vous aider aujourd'hui ?  09/24/24 01:51 PM  \n",
       "41                                                NaN  09/18/24 12:28 AM  \n",
       "45                                                NaN  09/15/24 08:50 AM  \n",
       "50  Enchante ! Nous sommes ici pour vous aider à r...  09/05/24 11:22 AM  \n",
       "52                                                NaN  09/14/24 02:34 PM  \n",
       "54  Bonjour ! Bienvenue ans notre chatbot de prein...  09/17/24 12:00 AM  \n",
       "57   Hello ! Comment puis-je vous aider aujourd'hui ?  09/22/24 08:10 PM  \n",
       "62  Enchante ! Nous sommes ici pour vous aider à r...  09/15/24 08:17 AM  \n",
       "67  Bienvenue dans note communauté! Nous sommes he...  09/22/24 07:01 AM  \n",
       "69                                                NaN  09/29/24 10:05 AM  "
      ]
     },
     "execution_count": 23,
     "metadata": {},
     "output_type": "execute_result"
    }
   ],
   "source": [
    "val_manquantes = data[data.isnull().any(axis=1)]\n",
    "val_manquantes"
   ]
  },
  {
   "cell_type": "markdown",
   "id": "a94572c8-61c6-4282-8c1b-a2c603fda4e9",
   "metadata": {},
   "source": [
    "## Est-ce que toutes les lignes n'ont que des valeurs manquantes"
   ]
  },
  {
   "cell_type": "code",
   "execution_count": 24,
   "id": "c3aab3ba-faab-4760-8c00-9b5aa5e4cd25",
   "metadata": {},
   "outputs": [
    {
     "data": {
      "text/plain": [
       "username    False\n",
       "question    False\n",
       "response    False\n",
       "date        False\n",
       "dtype: bool"
      ]
     },
     "execution_count": 24,
     "metadata": {},
     "output_type": "execute_result"
    }
   ],
   "source": [
    "val_manquantes.isnull().all()"
   ]
  },
  {
   "cell_type": "markdown",
   "id": "86ee8da2-ec3a-427d-a930-526be81beb14",
   "metadata": {},
   "source": [
    "## Supprimer toutes les lignes avec des valeurs manquantes: "
   ]
  },
  {
   "cell_type": "code",
   "execution_count": 25,
   "id": "a0bb5e1c-22c0-40e0-b8b8-c703774a6355",
   "metadata": {},
   "outputs": [
    {
     "data": {
      "text/plain": [
       "(70, 4)"
      ]
     },
     "execution_count": 25,
     "metadata": {},
     "output_type": "execute_result"
    }
   ],
   "source": [
    "data.shape"
   ]
  },
  {
   "cell_type": "code",
   "execution_count": 26,
   "id": "c583d167-f017-4078-b916-a4dd19a281e9",
   "metadata": {},
   "outputs": [],
   "source": [
    "data.dropna(inplace=True)"
   ]
  },
  {
   "cell_type": "code",
   "execution_count": 18,
   "id": "e7045f5c-3bb4-4051-b4eb-413ee2f2df1a",
   "metadata": {},
   "outputs": [
    {
     "data": {
      "text/plain": [
       "(50, 4)"
      ]
     },
     "execution_count": 18,
     "metadata": {},
     "output_type": "execute_result"
    }
   ],
   "source": [
    "data.shape"
   ]
  },
  {
   "cell_type": "code",
   "execution_count": 200,
   "id": "5e181381-5fae-4886-9f96-4fefd94ce5fd",
   "metadata": {},
   "outputs": [
    {
     "data": {
      "text/plain": [
       "username    False\n",
       "question    False\n",
       "response    False\n",
       "date        False\n",
       "count        True\n",
       "dtype: bool"
      ]
     },
     "execution_count": 200,
     "metadata": {},
     "output_type": "execute_result"
    }
   ],
   "source": [
    "data.isnull().any()"
   ]
  },
  {
   "cell_type": "code",
   "execution_count": 28,
   "id": "4e7d34be-62b8-46ec-8997-248daca6ae6e",
   "metadata": {},
   "outputs": [
    {
     "data": {
      "text/html": [
       "<div>\n",
       "<style scoped>\n",
       "    .dataframe tbody tr th:only-of-type {\n",
       "        vertical-align: middle;\n",
       "    }\n",
       "\n",
       "    .dataframe tbody tr th {\n",
       "        vertical-align: top;\n",
       "    }\n",
       "\n",
       "    .dataframe thead th {\n",
       "        text-align: right;\n",
       "    }\n",
       "</style>\n",
       "<table border=\"1\" class=\"dataframe\">\n",
       "  <thead>\n",
       "    <tr style=\"text-align: right;\">\n",
       "      <th></th>\n",
       "      <th>username</th>\n",
       "      <th>question</th>\n",
       "      <th>response</th>\n",
       "      <th>date</th>\n",
       "    </tr>\n",
       "  </thead>\n",
       "  <tbody>\n",
       "    <tr>\n",
       "      <th>count</th>\n",
       "      <td>50</td>\n",
       "      <td>50</td>\n",
       "      <td>50</td>\n",
       "      <td>50</td>\n",
       "    </tr>\n",
       "    <tr>\n",
       "      <th>unique</th>\n",
       "      <td>36</td>\n",
       "      <td>21</td>\n",
       "      <td>23</td>\n",
       "      <td>44</td>\n",
       "    </tr>\n",
       "    <tr>\n",
       "      <th>top</th>\n",
       "      <td>David</td>\n",
       "      <td>Quels sont les avantages de l'utilisation de c...</td>\n",
       "      <td>ce chatbot vous permet de vous preinscrire rap...</td>\n",
       "      <td>09/18/24 12:28 AM</td>\n",
       "    </tr>\n",
       "    <tr>\n",
       "      <th>freq</th>\n",
       "      <td>3</td>\n",
       "      <td>10</td>\n",
       "      <td>10</td>\n",
       "      <td>4</td>\n",
       "    </tr>\n",
       "  </tbody>\n",
       "</table>\n",
       "</div>"
      ],
      "text/plain": [
       "       username                                           question  \\\n",
       "count        50                                                 50   \n",
       "unique       36                                                 21   \n",
       "top       David  Quels sont les avantages de l'utilisation de c...   \n",
       "freq          3                                                 10   \n",
       "\n",
       "                                                 response               date  \n",
       "count                                                  50                 50  \n",
       "unique                                                 23                 44  \n",
       "top     ce chatbot vous permet de vous preinscrire rap...  09/18/24 12:28 AM  \n",
       "freq                                                   10                  4  "
      ]
     },
     "execution_count": 28,
     "metadata": {},
     "output_type": "execute_result"
    }
   ],
   "source": [
    "data.describe()"
   ]
  },
  {
   "cell_type": "code",
   "execution_count": 29,
   "id": "06b284cd-2a40-4234-8559-647699cb0e4d",
   "metadata": {},
   "outputs": [
    {
     "data": {
      "text/html": [
       "<div>\n",
       "<style scoped>\n",
       "    .dataframe tbody tr th:only-of-type {\n",
       "        vertical-align: middle;\n",
       "    }\n",
       "\n",
       "    .dataframe tbody tr th {\n",
       "        vertical-align: top;\n",
       "    }\n",
       "\n",
       "    .dataframe thead th {\n",
       "        text-align: right;\n",
       "    }\n",
       "</style>\n",
       "<table border=\"1\" class=\"dataframe\">\n",
       "  <thead>\n",
       "    <tr style=\"text-align: right;\">\n",
       "      <th></th>\n",
       "      <th>username</th>\n",
       "      <th>question</th>\n",
       "      <th>response</th>\n",
       "      <th>date</th>\n",
       "    </tr>\n",
       "    <tr>\n",
       "      <th>id</th>\n",
       "      <th></th>\n",
       "      <th></th>\n",
       "      <th></th>\n",
       "      <th></th>\n",
       "    </tr>\n",
       "  </thead>\n",
       "  <tbody>\n",
       "  </tbody>\n",
       "</table>\n",
       "</div>"
      ],
      "text/plain": [
       "Empty DataFrame\n",
       "Columns: [username, question, response, date]\n",
       "Index: []"
      ]
     },
     "execution_count": 29,
     "metadata": {},
     "output_type": "execute_result"
    }
   ],
   "source": [
    "data[data['date'] == \"date\"]"
   ]
  },
  {
   "cell_type": "code",
   "execution_count": 27,
   "id": "6defd8d2-986a-4df7-a613-d3d1b45307d3",
   "metadata": {},
   "outputs": [
    {
     "data": {
      "text/html": [
       "<div>\n",
       "<style scoped>\n",
       "    .dataframe tbody tr th:only-of-type {\n",
       "        vertical-align: middle;\n",
       "    }\n",
       "\n",
       "    .dataframe tbody tr th {\n",
       "        vertical-align: top;\n",
       "    }\n",
       "\n",
       "    .dataframe thead th {\n",
       "        text-align: right;\n",
       "    }\n",
       "</style>\n",
       "<table border=\"1\" class=\"dataframe\">\n",
       "  <thead>\n",
       "    <tr style=\"text-align: right;\">\n",
       "      <th></th>\n",
       "      <th>username</th>\n",
       "      <th>question</th>\n",
       "      <th>response</th>\n",
       "      <th>date</th>\n",
       "    </tr>\n",
       "    <tr>\n",
       "      <th>id</th>\n",
       "      <th></th>\n",
       "      <th></th>\n",
       "      <th></th>\n",
       "      <th></th>\n",
       "    </tr>\n",
       "  </thead>\n",
       "  <tbody>\n",
       "    <tr>\n",
       "      <th>1</th>\n",
       "      <td>Amadou</td>\n",
       "      <td>Qu'est ce que ce chatbot ?</td>\n",
       "      <td>Ce chatbot est concu pour vous aider à vous pr...</td>\n",
       "      <td>09/02/24 03:32 PM</td>\n",
       "    </tr>\n",
       "    <tr>\n",
       "      <th>2</th>\n",
       "      <td>Andre</td>\n",
       "      <td>Comment fonctionne ce chabot ?</td>\n",
       "      <td>ce chatbot vous pose des questions pour collec...</td>\n",
       "      <td>09/15/24</td>\n",
       "    </tr>\n",
       "    <tr>\n",
       "      <th>3</th>\n",
       "      <td>Esther</td>\n",
       "      <td>Comment fonctionne ce chabot ?</td>\n",
       "      <td>ce chatbotbot vous pose des questions pour col...</td>\n",
       "      <td>09/28/24 09:19 PM</td>\n",
       "    </tr>\n",
       "    <tr>\n",
       "      <th>4</th>\n",
       "      <td>Corinne</td>\n",
       "      <td>Quels sont les avantages de l'utilisation de c...</td>\n",
       "      <td>ce chatbot vous permet de vous preinscrire rap...</td>\n",
       "      <td>09/09/24 03:56 AM</td>\n",
       "    </tr>\n",
       "    <tr>\n",
       "      <th>5</th>\n",
       "      <td>Yannick</td>\n",
       "      <td>Qu'est ce que ce chatbot ?</td>\n",
       "      <td>Ce chatbot est concu pour vous aider à vous pr...</td>\n",
       "      <td>09/21/24 05:09 PM</td>\n",
       "    </tr>\n",
       "    <tr>\n",
       "      <th>6</th>\n",
       "      <td>André</td>\n",
       "      <td>Comment puis-je me preinscrire en ligne ?</td>\n",
       "      <td>suivez les etapes du chatbot pour founir vos i...</td>\n",
       "      <td>05/09/24 11:23 AM</td>\n",
       "    </tr>\n",
       "    <tr>\n",
       "      <th>7</th>\n",
       "      <td>Thierry</td>\n",
       "      <td>Quels documents dois je fournir pour la preins...</td>\n",
       "      <td>Veuillez fournir une copie de votre piece d'id...</td>\n",
       "      <td>09/15/24 08:47 AM</td>\n",
       "    </tr>\n",
       "    <tr>\n",
       "      <th>8</th>\n",
       "      <td>Claire</td>\n",
       "      <td>Quels sont les criteres d'accessibilité pour l...</td>\n",
       "      <td>Veuilllez consulter note sibe web pour obtenir...</td>\n",
       "      <td>09/27/24 02:26 PM</td>\n",
       "    </tr>\n",
       "    <tr>\n",
       "      <th>9</th>\n",
       "      <td>Yannick</td>\n",
       "      <td>Quels sont les avantages de l'utilisation de c...</td>\n",
       "      <td>ce chatbot vous permet de vous preinscrire rap...</td>\n",
       "      <td>09/05/24 11:24 AM</td>\n",
       "    </tr>\n",
       "    <tr>\n",
       "      <th>11</th>\n",
       "      <td>Patricia</td>\n",
       "      <td>Quels sont les criteres d'accessibilité pour l...</td>\n",
       "      <td>Veuilllez consulter note sibe web pour obtenir...</td>\n",
       "      <td>09/22/24 08:10 PM</td>\n",
       "    </tr>\n",
       "    <tr>\n",
       "      <th>12</th>\n",
       "      <td>Valerie</td>\n",
       "      <td>Comment obtenir plus d'informations sur le pro...</td>\n",
       "      <td>Veuillez consulter notre site web ou nous cont...</td>\n",
       "      <td>09/06/24 08:06 PM</td>\n",
       "    </tr>\n",
       "    <tr>\n",
       "      <th>13</th>\n",
       "      <td>Valerie</td>\n",
       "      <td>Qu'est ce que ce chatbot ?</td>\n",
       "      <td>Ce chatbot est concu pour vous aider à vous pr...</td>\n",
       "      <td>09/05/24 11:28 AM</td>\n",
       "    </tr>\n",
       "    <tr>\n",
       "      <th>14</th>\n",
       "      <td>Fabrice</td>\n",
       "      <td>Puis je preinscrire si je n'ai pas de diplome ...</td>\n",
       "      <td>Non, vous devez avoir le diplome requis pour e...</td>\n",
       "      <td>09/20/24 09:50 AM</td>\n",
       "    </tr>\n",
       "    <tr>\n",
       "      <th>15</th>\n",
       "      <td>David</td>\n",
       "      <td>Quels sont les criteres d'accessibilité pour l...</td>\n",
       "      <td>Veuillez consulter notre site web pour obtenir...</td>\n",
       "      <td>09/18/24 12:27 AM</td>\n",
       "    </tr>\n",
       "    <tr>\n",
       "      <th>16</th>\n",
       "      <td>Celestin</td>\n",
       "      <td>Combien coute la preinscription ?</td>\n",
       "      <td>La preinscription est gratuite</td>\n",
       "      <td>09/18/24 12:27 AM</td>\n",
       "    </tr>\n",
       "    <tr>\n",
       "      <th>17</th>\n",
       "      <td>Florence</td>\n",
       "      <td>Quels sont les avantages de l'utilisation de c...</td>\n",
       "      <td>ce chatbot vous permet de vous preinscrire rap...</td>\n",
       "      <td>09/18/24 12:28 AM</td>\n",
       "    </tr>\n",
       "    <tr>\n",
       "      <th>18</th>\n",
       "      <td>Patricia</td>\n",
       "      <td>Combien de temps prend la verification des doc...</td>\n",
       "      <td>La verification des documents prend environ 3-...</td>\n",
       "      <td>09/24/24 04:00 AM</td>\n",
       "    </tr>\n",
       "    <tr>\n",
       "      <th>20</th>\n",
       "      <td>Marie</td>\n",
       "      <td>Quels sont les avantages de l'utilisation de c...</td>\n",
       "      <td>ce chatbot vous permet de vous preinscrire rap...</td>\n",
       "      <td>09/26/24 04:30 AM</td>\n",
       "    </tr>\n",
       "    <tr>\n",
       "      <th>21</th>\n",
       "      <td>Koffi</td>\n",
       "      <td>Quels sont les formats de fichiers acceptes ?</td>\n",
       "      <td>Nous acceptons les fichiers pdf , jpeg , png</td>\n",
       "      <td>09/18/24 12:28 AM</td>\n",
       "    </tr>\n",
       "    <tr>\n",
       "      <th>22</th>\n",
       "      <td>Paul</td>\n",
       "      <td>J'ai des problemes pour telecharger mes docume...</td>\n",
       "      <td>Veuillez verifier que vos fichiers sont au for...</td>\n",
       "      <td>09/12/24 12:21 AM</td>\n",
       "    </tr>\n",
       "    <tr>\n",
       "      <th>23</th>\n",
       "      <td>Samuel</td>\n",
       "      <td>Comment puis-je payer les frais de scolarité ?</td>\n",
       "      <td>Vous pouvez payer les frais de sclarite en lig...</td>\n",
       "      <td>09/20/24 08:01 PM</td>\n",
       "    </tr>\n",
       "    <tr>\n",
       "      <th>24</th>\n",
       "      <td>Pierre</td>\n",
       "      <td>Comment fonctionne ce chabot ?</td>\n",
       "      <td>ce chatbotbot vous pose des questions pour col...</td>\n",
       "      <td>09/10/24 12:03 AM</td>\n",
       "    </tr>\n",
       "    <tr>\n",
       "      <th>28</th>\n",
       "      <td>Thomas</td>\n",
       "      <td>Puis je preinscrire si je n'ai pas de diplome ...</td>\n",
       "      <td>Non, vous devez avoir le diplome requis pour e...</td>\n",
       "      <td>09/24/24 04:59 AM</td>\n",
       "    </tr>\n",
       "    <tr>\n",
       "      <th>31</th>\n",
       "      <td>Viviane</td>\n",
       "      <td>Quel sont les cours obligatoires pour le progr...</td>\n",
       "      <td>Veuilllez consulter note sibe web pour obtenir...</td>\n",
       "      <td>09/22/24 08:41 PM</td>\n",
       "    </tr>\n",
       "    <tr>\n",
       "      <th>32</th>\n",
       "      <td>Josiane</td>\n",
       "      <td>Quels sont les avantages de l'utilisation de c...</td>\n",
       "      <td>ce chatbot vous permet de vous preinscrire rap...</td>\n",
       "      <td>09/05/24 11:23 AM</td>\n",
       "    </tr>\n",
       "    <tr>\n",
       "      <th>36</th>\n",
       "      <td>Amoudou</td>\n",
       "      <td>Quels sont les avantages de l'utilisation de c...</td>\n",
       "      <td>ce chatbot vous permet de vous preinscrire rap...</td>\n",
       "      <td>09/31/2024  16:28</td>\n",
       "    </tr>\n",
       "    <tr>\n",
       "      <th>37</th>\n",
       "      <td>Gabriel</td>\n",
       "      <td>Comment fonctionne ce chabot ?</td>\n",
       "      <td>ce chatbot vous pose des questions pour collec...</td>\n",
       "      <td>09/10/24 07:45 AM</td>\n",
       "    </tr>\n",
       "    <tr>\n",
       "      <th>39</th>\n",
       "      <td>Gabriel</td>\n",
       "      <td>Quels sont les avantages de l'utilisation de c...</td>\n",
       "      <td>ce chatbot vous permet de vous preinscrire rap...</td>\n",
       "      <td>09/18/24 12:28 AM</td>\n",
       "    </tr>\n",
       "    <tr>\n",
       "      <th>40</th>\n",
       "      <td>Gabriel</td>\n",
       "      <td>Combien de documents puis-je telechargé ?</td>\n",
       "      <td>Vous pouvez telecharger jusqu'à 5 documents</td>\n",
       "      <td>09/06/24 08:06 PM</td>\n",
       "    </tr>\n",
       "    <tr>\n",
       "      <th>41</th>\n",
       "      <td>Thomas</td>\n",
       "      <td>Quels sont les delais de ma preinscriptions ?</td>\n",
       "      <td>Les delais pour la preinscritpion sont disponi...</td>\n",
       "      <td>09/11/24 07:45 AM</td>\n",
       "    </tr>\n",
       "    <tr>\n",
       "      <th>43</th>\n",
       "      <td>Yannick</td>\n",
       "      <td>Qu'est ce que ce chatbot ?</td>\n",
       "      <td>Ce chatbot est concu pour vous aider à vous pr...</td>\n",
       "      <td>09/08/24 05:29 AM</td>\n",
       "    </tr>\n",
       "    <tr>\n",
       "      <th>44</th>\n",
       "      <td>Isabelle</td>\n",
       "      <td>Quels sont les avantages de l'utilisation de c...</td>\n",
       "      <td>ce chatbot vous permet de vous preinscrire rap...</td>\n",
       "      <td>09/06/24 06:13 AM</td>\n",
       "    </tr>\n",
       "    <tr>\n",
       "      <th>46</th>\n",
       "      <td>Chantal</td>\n",
       "      <td>Quels documents dois je fournir pour la preins...</td>\n",
       "      <td>Veuillez fournir une copie de votre piece d'id...</td>\n",
       "      <td>09/16/24 05:35 PM</td>\n",
       "    </tr>\n",
       "    <tr>\n",
       "      <th>47</th>\n",
       "      <td>Brigitte</td>\n",
       "      <td>Combien de credits dois-je obtenir pour valide...</td>\n",
       "      <td>Vous devez obtenir 30 credits pour valider vot...</td>\n",
       "      <td>09/10/24 10:06 PM</td>\n",
       "    </tr>\n",
       "    <tr>\n",
       "      <th>48</th>\n",
       "      <td>Claire</td>\n",
       "      <td>Combien coute la preinscription ?</td>\n",
       "      <td>La preinscription est gratuite</td>\n",
       "      <td>09/18/24 12:28 AM</td>\n",
       "    </tr>\n",
       "    <tr>\n",
       "      <th>49</th>\n",
       "      <td>Amelie</td>\n",
       "      <td>Qu'est ce que ce chatbot ?</td>\n",
       "      <td>Ce chatbot est concu pour vous aider à vous pr...</td>\n",
       "      <td>09/22/24 08:00 PM</td>\n",
       "    </tr>\n",
       "    <tr>\n",
       "      <th>51</th>\n",
       "      <td>Samuel</td>\n",
       "      <td>Quels sont les avantages de l'utilisation de c...</td>\n",
       "      <td>ce chatbot vous permet de vous preinscrire rap...</td>\n",
       "      <td>09/05/24 05:08 PM</td>\n",
       "    </tr>\n",
       "    <tr>\n",
       "      <th>53</th>\n",
       "      <td>Martin</td>\n",
       "      <td>Comment fonctionne ce chabot ?</td>\n",
       "      <td>ce chatbot vous pose des questions pour collec...</td>\n",
       "      <td>09/07/24 08:06 PM</td>\n",
       "    </tr>\n",
       "    <tr>\n",
       "      <th>55</th>\n",
       "      <td>David</td>\n",
       "      <td>Comment puis-je payer les frais de scolarité ?</td>\n",
       "      <td>Vous pouvez payer les frais de sclarite en lig...</td>\n",
       "      <td>09/19/24 01:11 AM</td>\n",
       "    </tr>\n",
       "    <tr>\n",
       "      <th>56</th>\n",
       "      <td>David</td>\n",
       "      <td>Qu'est ce que ce chatbot ?</td>\n",
       "      <td>Ce chatbot est concu pour vous aider à vous pr...</td>\n",
       "      <td>09/30/24 08:06 PM</td>\n",
       "    </tr>\n",
       "    <tr>\n",
       "      <th>58</th>\n",
       "      <td>Salenom</td>\n",
       "      <td>Comment fonctionne ce chabot ?</td>\n",
       "      <td>ce chatbotbot vous pose des questions pour col...</td>\n",
       "      <td>09/03/24 03:20 AM</td>\n",
       "    </tr>\n",
       "    <tr>\n",
       "      <th>59</th>\n",
       "      <td>Bernad</td>\n",
       "      <td>Quels sont les avantages de l'utilisation de c...</td>\n",
       "      <td>ce chatbot vous permet de vous preinscrire rap...</td>\n",
       "      <td>09/10/24 12:54 AM</td>\n",
       "    </tr>\n",
       "    <tr>\n",
       "      <th>60</th>\n",
       "      <td>Eric</td>\n",
       "      <td>Comment fonctionne ce chabot ?</td>\n",
       "      <td>ce chatbotbot vous pose des questions pour col...</td>\n",
       "      <td>09/15/24 03:37 PM</td>\n",
       "    </tr>\n",
       "    <tr>\n",
       "      <th>61</th>\n",
       "      <td>Samuel</td>\n",
       "      <td>Puis-je annuler ma preinscription ?</td>\n",
       "      <td>Oui, vous pouvez annuker votre preinscription ...</td>\n",
       "      <td>09/12/24 12:28 AM</td>\n",
       "    </tr>\n",
       "    <tr>\n",
       "      <th>63</th>\n",
       "      <td>Rose</td>\n",
       "      <td>Le chatbot ne fonctionne pas</td>\n",
       "      <td>Hello ! Comment puis-je vous aider aujourd'hui ?</td>\n",
       "      <td>09/06/24 08:06 PM</td>\n",
       "    </tr>\n",
       "    <tr>\n",
       "      <th>54</th>\n",
       "      <td>Patricia</td>\n",
       "      <td>Comment je serai informe de la decision relati...</td>\n",
       "      <td>Vous serez informe par courriel ou par telephone</td>\n",
       "      <td>09/06/24 04:06 AM</td>\n",
       "    </tr>\n",
       "    <tr>\n",
       "      <th>65</th>\n",
       "      <td>Fabrice</td>\n",
       "      <td>Comment je serai informe de la decision relati...</td>\n",
       "      <td>Vous serez informe par courriel ou par telephone</td>\n",
       "      <td>09/06/24 08:41 PM</td>\n",
       "    </tr>\n",
       "    <tr>\n",
       "      <th>66</th>\n",
       "      <td>Celistin</td>\n",
       "      <td>Puis -je me preinscrire en ligne si je suis á ...</td>\n",
       "      <td>Oui, vous pouvez vous preinscrire depuis n'imp...</td>\n",
       "      <td>09/01/24 10:37 PM</td>\n",
       "    </tr>\n",
       "    <tr>\n",
       "      <th>68</th>\n",
       "      <td>Ange</td>\n",
       "      <td>Combien de temps prend la verification des doc...</td>\n",
       "      <td>La verification des documents prend environ 3-...</td>\n",
       "      <td>09/06/24 08:03 PM</td>\n",
       "    </tr>\n",
       "    <tr>\n",
       "      <th>70</th>\n",
       "      <td>Ismael</td>\n",
       "      <td>Puis-je annuler ma preinscription ?</td>\n",
       "      <td>Oui, vous pouvez annuker votre preinscription ...</td>\n",
       "      <td>09/24/24 04:09 AM</td>\n",
       "    </tr>\n",
       "  </tbody>\n",
       "</table>\n",
       "</div>"
      ],
      "text/plain": [
       "    username                                           question  \\\n",
       "id                                                                \n",
       "1     Amadou                         Qu'est ce que ce chatbot ?   \n",
       "2      Andre                     Comment fonctionne ce chabot ?   \n",
       "3     Esther                     Comment fonctionne ce chabot ?   \n",
       "4    Corinne  Quels sont les avantages de l'utilisation de c...   \n",
       "5    Yannick                         Qu'est ce que ce chatbot ?   \n",
       "6      André          Comment puis-je me preinscrire en ligne ?   \n",
       "7    Thierry  Quels documents dois je fournir pour la preins...   \n",
       "8     Claire  Quels sont les criteres d'accessibilité pour l...   \n",
       "9    Yannick  Quels sont les avantages de l'utilisation de c...   \n",
       "11  Patricia  Quels sont les criteres d'accessibilité pour l...   \n",
       "12   Valerie  Comment obtenir plus d'informations sur le pro...   \n",
       "13   Valerie                         Qu'est ce que ce chatbot ?   \n",
       "14   Fabrice  Puis je preinscrire si je n'ai pas de diplome ...   \n",
       "15     David  Quels sont les criteres d'accessibilité pour l...   \n",
       "16  Celestin                  Combien coute la preinscription ?   \n",
       "17  Florence  Quels sont les avantages de l'utilisation de c...   \n",
       "18  Patricia  Combien de temps prend la verification des doc...   \n",
       "20     Marie  Quels sont les avantages de l'utilisation de c...   \n",
       "21     Koffi      Quels sont les formats de fichiers acceptes ?   \n",
       "22      Paul  J'ai des problemes pour telecharger mes docume...   \n",
       "23    Samuel     Comment puis-je payer les frais de scolarité ?   \n",
       "24    Pierre                     Comment fonctionne ce chabot ?   \n",
       "28    Thomas  Puis je preinscrire si je n'ai pas de diplome ...   \n",
       "31   Viviane  Quel sont les cours obligatoires pour le progr...   \n",
       "32   Josiane  Quels sont les avantages de l'utilisation de c...   \n",
       "36   Amoudou  Quels sont les avantages de l'utilisation de c...   \n",
       "37   Gabriel                     Comment fonctionne ce chabot ?   \n",
       "39   Gabriel  Quels sont les avantages de l'utilisation de c...   \n",
       "40   Gabriel          Combien de documents puis-je telechargé ?   \n",
       "41    Thomas      Quels sont les delais de ma preinscriptions ?   \n",
       "43   Yannick                         Qu'est ce que ce chatbot ?   \n",
       "44  Isabelle  Quels sont les avantages de l'utilisation de c...   \n",
       "46   Chantal  Quels documents dois je fournir pour la preins...   \n",
       "47  Brigitte  Combien de credits dois-je obtenir pour valide...   \n",
       "48    Claire                  Combien coute la preinscription ?   \n",
       "49    Amelie                         Qu'est ce que ce chatbot ?   \n",
       "51    Samuel  Quels sont les avantages de l'utilisation de c...   \n",
       "53    Martin                     Comment fonctionne ce chabot ?   \n",
       "55     David     Comment puis-je payer les frais de scolarité ?   \n",
       "56     David                         Qu'est ce que ce chatbot ?   \n",
       "58   Salenom                     Comment fonctionne ce chabot ?   \n",
       "59    Bernad  Quels sont les avantages de l'utilisation de c...   \n",
       "60      Eric                     Comment fonctionne ce chabot ?   \n",
       "61    Samuel                Puis-je annuler ma preinscription ?   \n",
       "63      Rose                       Le chatbot ne fonctionne pas   \n",
       "54  Patricia  Comment je serai informe de la decision relati...   \n",
       "65   Fabrice  Comment je serai informe de la decision relati...   \n",
       "66  Celistin  Puis -je me preinscrire en ligne si je suis á ...   \n",
       "68      Ange  Combien de temps prend la verification des doc...   \n",
       "70    Ismael                Puis-je annuler ma preinscription ?   \n",
       "\n",
       "                                             response               date  \n",
       "id                                                                        \n",
       "1   Ce chatbot est concu pour vous aider à vous pr...  09/02/24 03:32 PM  \n",
       "2   ce chatbot vous pose des questions pour collec...           09/15/24  \n",
       "3   ce chatbotbot vous pose des questions pour col...  09/28/24 09:19 PM  \n",
       "4   ce chatbot vous permet de vous preinscrire rap...  09/09/24 03:56 AM  \n",
       "5   Ce chatbot est concu pour vous aider à vous pr...  09/21/24 05:09 PM  \n",
       "6   suivez les etapes du chatbot pour founir vos i...  05/09/24 11:23 AM  \n",
       "7   Veuillez fournir une copie de votre piece d'id...  09/15/24 08:47 AM  \n",
       "8   Veuilllez consulter note sibe web pour obtenir...  09/27/24 02:26 PM  \n",
       "9   ce chatbot vous permet de vous preinscrire rap...  09/05/24 11:24 AM  \n",
       "11  Veuilllez consulter note sibe web pour obtenir...  09/22/24 08:10 PM  \n",
       "12  Veuillez consulter notre site web ou nous cont...  09/06/24 08:06 PM  \n",
       "13  Ce chatbot est concu pour vous aider à vous pr...  09/05/24 11:28 AM  \n",
       "14  Non, vous devez avoir le diplome requis pour e...  09/20/24 09:50 AM  \n",
       "15  Veuillez consulter notre site web pour obtenir...  09/18/24 12:27 AM  \n",
       "16                     La preinscription est gratuite  09/18/24 12:27 AM  \n",
       "17  ce chatbot vous permet de vous preinscrire rap...  09/18/24 12:28 AM  \n",
       "18  La verification des documents prend environ 3-...  09/24/24 04:00 AM  \n",
       "20  ce chatbot vous permet de vous preinscrire rap...  09/26/24 04:30 AM  \n",
       "21       Nous acceptons les fichiers pdf , jpeg , png  09/18/24 12:28 AM  \n",
       "22  Veuillez verifier que vos fichiers sont au for...  09/12/24 12:21 AM  \n",
       "23  Vous pouvez payer les frais de sclarite en lig...  09/20/24 08:01 PM  \n",
       "24  ce chatbotbot vous pose des questions pour col...  09/10/24 12:03 AM  \n",
       "28  Non, vous devez avoir le diplome requis pour e...  09/24/24 04:59 AM  \n",
       "31  Veuilllez consulter note sibe web pour obtenir...  09/22/24 08:41 PM  \n",
       "32  ce chatbot vous permet de vous preinscrire rap...  09/05/24 11:23 AM  \n",
       "36  ce chatbot vous permet de vous preinscrire rap...  09/31/2024  16:28  \n",
       "37  ce chatbot vous pose des questions pour collec...  09/10/24 07:45 AM  \n",
       "39  ce chatbot vous permet de vous preinscrire rap...  09/18/24 12:28 AM  \n",
       "40        Vous pouvez telecharger jusqu'à 5 documents  09/06/24 08:06 PM  \n",
       "41  Les delais pour la preinscritpion sont disponi...  09/11/24 07:45 AM  \n",
       "43  Ce chatbot est concu pour vous aider à vous pr...  09/08/24 05:29 AM  \n",
       "44  ce chatbot vous permet de vous preinscrire rap...  09/06/24 06:13 AM  \n",
       "46  Veuillez fournir une copie de votre piece d'id...  09/16/24 05:35 PM  \n",
       "47  Vous devez obtenir 30 credits pour valider vot...  09/10/24 10:06 PM  \n",
       "48                     La preinscription est gratuite  09/18/24 12:28 AM  \n",
       "49  Ce chatbot est concu pour vous aider à vous pr...  09/22/24 08:00 PM  \n",
       "51  ce chatbot vous permet de vous preinscrire rap...  09/05/24 05:08 PM  \n",
       "53  ce chatbot vous pose des questions pour collec...  09/07/24 08:06 PM  \n",
       "55  Vous pouvez payer les frais de sclarite en lig...  09/19/24 01:11 AM  \n",
       "56  Ce chatbot est concu pour vous aider à vous pr...  09/30/24 08:06 PM  \n",
       "58  ce chatbotbot vous pose des questions pour col...  09/03/24 03:20 AM  \n",
       "59  ce chatbot vous permet de vous preinscrire rap...  09/10/24 12:54 AM  \n",
       "60  ce chatbotbot vous pose des questions pour col...  09/15/24 03:37 PM  \n",
       "61  Oui, vous pouvez annuker votre preinscription ...  09/12/24 12:28 AM  \n",
       "63   Hello ! Comment puis-je vous aider aujourd'hui ?  09/06/24 08:06 PM  \n",
       "54   Vous serez informe par courriel ou par telephone  09/06/24 04:06 AM  \n",
       "65   Vous serez informe par courriel ou par telephone  09/06/24 08:41 PM  \n",
       "66  Oui, vous pouvez vous preinscrire depuis n'imp...  09/01/24 10:37 PM  \n",
       "68  La verification des documents prend environ 3-...  09/06/24 08:03 PM  \n",
       "70  Oui, vous pouvez annuker votre preinscription ...  09/24/24 04:09 AM  "
      ]
     },
     "execution_count": 27,
     "metadata": {},
     "output_type": "execute_result"
    }
   ],
   "source": [
    "data\n"
   ]
  },
  {
   "cell_type": "markdown",
   "id": "9989c987-16a0-4ae0-9a07-b3eabdb7b124",
   "metadata": {},
   "source": [
    "## Supprime les lignes qui ont le mot chat Date sur Le Date Date"
   ]
  },
  {
   "cell_type": "code",
   "execution_count": 30,
   "id": "a9643573-335f-423b-b061-45db9061c5ad",
   "metadata": {},
   "outputs": [],
   "source": [
    "df_clean = data.drop(data.loc[data['date'] == \"date\", :].index)"
   ]
  },
  {
   "cell_type": "code",
   "execution_count": 31,
   "id": "47bc2fd8-ff1c-47ff-ace6-c298b6c29333",
   "metadata": {},
   "outputs": [
    {
     "data": {
      "text/html": [
       "<div>\n",
       "<style scoped>\n",
       "    .dataframe tbody tr th:only-of-type {\n",
       "        vertical-align: middle;\n",
       "    }\n",
       "\n",
       "    .dataframe tbody tr th {\n",
       "        vertical-align: top;\n",
       "    }\n",
       "\n",
       "    .dataframe thead th {\n",
       "        text-align: right;\n",
       "    }\n",
       "</style>\n",
       "<table border=\"1\" class=\"dataframe\">\n",
       "  <thead>\n",
       "    <tr style=\"text-align: right;\">\n",
       "      <th></th>\n",
       "      <th>username</th>\n",
       "      <th>question</th>\n",
       "      <th>response</th>\n",
       "      <th>date</th>\n",
       "    </tr>\n",
       "    <tr>\n",
       "      <th>id</th>\n",
       "      <th></th>\n",
       "      <th></th>\n",
       "      <th></th>\n",
       "      <th></th>\n",
       "    </tr>\n",
       "  </thead>\n",
       "  <tbody>\n",
       "    <tr>\n",
       "      <th>1</th>\n",
       "      <td>Amadou</td>\n",
       "      <td>Qu'est ce que ce chatbot ?</td>\n",
       "      <td>Ce chatbot est concu pour vous aider à vous pr...</td>\n",
       "      <td>09/02/24 03:32 PM</td>\n",
       "    </tr>\n",
       "    <tr>\n",
       "      <th>2</th>\n",
       "      <td>Andre</td>\n",
       "      <td>Comment fonctionne ce chabot ?</td>\n",
       "      <td>ce chatbot vous pose des questions pour collec...</td>\n",
       "      <td>09/15/24</td>\n",
       "    </tr>\n",
       "    <tr>\n",
       "      <th>3</th>\n",
       "      <td>Esther</td>\n",
       "      <td>Comment fonctionne ce chabot ?</td>\n",
       "      <td>ce chatbotbot vous pose des questions pour col...</td>\n",
       "      <td>09/28/24 09:19 PM</td>\n",
       "    </tr>\n",
       "    <tr>\n",
       "      <th>4</th>\n",
       "      <td>Corinne</td>\n",
       "      <td>Quels sont les avantages de l'utilisation de c...</td>\n",
       "      <td>ce chatbot vous permet de vous preinscrire rap...</td>\n",
       "      <td>09/09/24 03:56 AM</td>\n",
       "    </tr>\n",
       "    <tr>\n",
       "      <th>5</th>\n",
       "      <td>Yannick</td>\n",
       "      <td>Qu'est ce que ce chatbot ?</td>\n",
       "      <td>Ce chatbot est concu pour vous aider à vous pr...</td>\n",
       "      <td>09/21/24 05:09 PM</td>\n",
       "    </tr>\n",
       "  </tbody>\n",
       "</table>\n",
       "</div>"
      ],
      "text/plain": [
       "   username                                           question  \\\n",
       "id                                                               \n",
       "1    Amadou                         Qu'est ce que ce chatbot ?   \n",
       "2     Andre                     Comment fonctionne ce chabot ?   \n",
       "3    Esther                     Comment fonctionne ce chabot ?   \n",
       "4   Corinne  Quels sont les avantages de l'utilisation de c...   \n",
       "5   Yannick                         Qu'est ce que ce chatbot ?   \n",
       "\n",
       "                                             response               date  \n",
       "id                                                                        \n",
       "1   Ce chatbot est concu pour vous aider à vous pr...  09/02/24 03:32 PM  \n",
       "2   ce chatbot vous pose des questions pour collec...           09/15/24  \n",
       "3   ce chatbotbot vous pose des questions pour col...  09/28/24 09:19 PM  \n",
       "4   ce chatbot vous permet de vous preinscrire rap...  09/09/24 03:56 AM  \n",
       "5   Ce chatbot est concu pour vous aider à vous pr...  09/21/24 05:09 PM  "
      ]
     },
     "execution_count": 31,
     "metadata": {},
     "output_type": "execute_result"
    }
   ],
   "source": [
    "df_clean.head()"
   ]
  },
  {
   "cell_type": "code",
   "execution_count": 32,
   "id": "0a6627ee-202a-4525-baf6-2bbab44f46e5",
   "metadata": {},
   "outputs": [
    {
     "data": {
      "text/plain": [
       "id\n",
       "1     09/02/24 03:32 PM\n",
       "2              09/15/24\n",
       "3     09/28/24 09:19 PM\n",
       "4     09/09/24 03:56 AM\n",
       "5     09/21/24 05:09 PM\n",
       "6     05/09/24 11:23 AM\n",
       "7     09/15/24 08:47 AM\n",
       "8     09/27/24 02:26 PM\n",
       "9     09/05/24 11:24 AM\n",
       "11    09/22/24 08:10 PM\n",
       "12    09/06/24 08:06 PM\n",
       "13    09/05/24 11:28 AM\n",
       "14    09/20/24 09:50 AM\n",
       "15    09/18/24 12:27 AM\n",
       "16    09/18/24 12:27 AM\n",
       "17    09/18/24 12:28 AM\n",
       "18    09/24/24 04:00 AM\n",
       "20    09/26/24 04:30 AM\n",
       "21    09/18/24 12:28 AM\n",
       "22    09/12/24 12:21 AM\n",
       "23    09/20/24 08:01 PM\n",
       "24    09/10/24 12:03 AM\n",
       "28    09/24/24 04:59 AM\n",
       "31    09/22/24 08:41 PM\n",
       "32    09/05/24 11:23 AM\n",
       "36    09/31/2024  16:28\n",
       "37    09/10/24 07:45 AM\n",
       "39    09/18/24 12:28 AM\n",
       "40    09/06/24 08:06 PM\n",
       "41    09/11/24 07:45 AM\n",
       "43    09/08/24 05:29 AM\n",
       "44    09/06/24 06:13 AM\n",
       "46    09/16/24 05:35 PM\n",
       "47    09/10/24 10:06 PM\n",
       "48    09/18/24 12:28 AM\n",
       "49    09/22/24 08:00 PM\n",
       "51    09/05/24 05:08 PM\n",
       "53    09/07/24 08:06 PM\n",
       "55    09/19/24 01:11 AM\n",
       "56    09/30/24 08:06 PM\n",
       "58    09/03/24 03:20 AM\n",
       "59    09/10/24 12:54 AM\n",
       "60    09/15/24 03:37 PM\n",
       "61    09/12/24 12:28 AM\n",
       "63    09/06/24 08:06 PM\n",
       "54    09/06/24 04:06 AM\n",
       "65    09/06/24 08:41 PM\n",
       "66    09/01/24 10:37 PM\n",
       "68    09/06/24 08:03 PM\n",
       "70    09/24/24 04:09 AM\n",
       "Name: date, dtype: object"
      ]
     },
     "execution_count": 32,
     "metadata": {},
     "output_type": "execute_result"
    }
   ],
   "source": [
    "df_clean['date']"
   ]
  },
  {
   "cell_type": "markdown",
   "id": "ea1ba509-cdc9-4a7b-8df6-0e415348eeaf",
   "metadata": {},
   "source": [
    "# Analyse Exploratoire proprement dite"
   ]
  },
  {
   "cell_type": "markdown",
   "id": "a9db150a-a7c9-40f3-be1a-eb5378e53856",
   "metadata": {},
   "source": [
    "## Quel est le ou les personnes qui ont le ou les plus utilisé (s) ce chatbot pendant le mois de septembre ?"
   ]
  },
  {
   "cell_type": "code",
   "execution_count": 33,
   "id": "516febbc-93dc-4606-ab1c-7abe27baf0e6",
   "metadata": {},
   "outputs": [],
   "source": [
    "df_clean  = df_clean.set_index('username')"
   ]
  },
  {
   "cell_type": "code",
   "execution_count": 34,
   "id": "2098f735-9a60-453d-a850-96dd60650f99",
   "metadata": {},
   "outputs": [
    {
     "data": {
      "text/html": [
       "<div>\n",
       "<style scoped>\n",
       "    .dataframe tbody tr th:only-of-type {\n",
       "        vertical-align: middle;\n",
       "    }\n",
       "\n",
       "    .dataframe tbody tr th {\n",
       "        vertical-align: top;\n",
       "    }\n",
       "\n",
       "    .dataframe thead th {\n",
       "        text-align: right;\n",
       "    }\n",
       "</style>\n",
       "<table border=\"1\" class=\"dataframe\">\n",
       "  <thead>\n",
       "    <tr style=\"text-align: right;\">\n",
       "      <th></th>\n",
       "      <th>question</th>\n",
       "      <th>response</th>\n",
       "      <th>date</th>\n",
       "    </tr>\n",
       "    <tr>\n",
       "      <th>username</th>\n",
       "      <th></th>\n",
       "      <th></th>\n",
       "      <th></th>\n",
       "    </tr>\n",
       "  </thead>\n",
       "  <tbody>\n",
       "    <tr>\n",
       "      <th>Amadou</th>\n",
       "      <td>Qu'est ce que ce chatbot ?</td>\n",
       "      <td>Ce chatbot est concu pour vous aider à vous pr...</td>\n",
       "      <td>09/02/24 03:32 PM</td>\n",
       "    </tr>\n",
       "    <tr>\n",
       "      <th>Andre</th>\n",
       "      <td>Comment fonctionne ce chabot ?</td>\n",
       "      <td>ce chatbot vous pose des questions pour collec...</td>\n",
       "      <td>09/15/24</td>\n",
       "    </tr>\n",
       "    <tr>\n",
       "      <th>Esther</th>\n",
       "      <td>Comment fonctionne ce chabot ?</td>\n",
       "      <td>ce chatbotbot vous pose des questions pour col...</td>\n",
       "      <td>09/28/24 09:19 PM</td>\n",
       "    </tr>\n",
       "    <tr>\n",
       "      <th>Corinne</th>\n",
       "      <td>Quels sont les avantages de l'utilisation de c...</td>\n",
       "      <td>ce chatbot vous permet de vous preinscrire rap...</td>\n",
       "      <td>09/09/24 03:56 AM</td>\n",
       "    </tr>\n",
       "    <tr>\n",
       "      <th>Yannick</th>\n",
       "      <td>Qu'est ce que ce chatbot ?</td>\n",
       "      <td>Ce chatbot est concu pour vous aider à vous pr...</td>\n",
       "      <td>09/21/24 05:09 PM</td>\n",
       "    </tr>\n",
       "  </tbody>\n",
       "</table>\n",
       "</div>"
      ],
      "text/plain": [
       "                                                   question  \\\n",
       "username                                                      \n",
       "Amadou                           Qu'est ce que ce chatbot ?   \n",
       "Andre                        Comment fonctionne ce chabot ?   \n",
       "Esther                       Comment fonctionne ce chabot ?   \n",
       "Corinne   Quels sont les avantages de l'utilisation de c...   \n",
       "Yannick                          Qu'est ce que ce chatbot ?   \n",
       "\n",
       "                                                   response               date  \n",
       "username                                                                        \n",
       "Amadou    Ce chatbot est concu pour vous aider à vous pr...  09/02/24 03:32 PM  \n",
       "Andre     ce chatbot vous pose des questions pour collec...           09/15/24  \n",
       "Esther    ce chatbotbot vous pose des questions pour col...  09/28/24 09:19 PM  \n",
       "Corinne   ce chatbot vous permet de vous preinscrire rap...  09/09/24 03:56 AM  \n",
       "Yannick   Ce chatbot est concu pour vous aider à vous pr...  09/21/24 05:09 PM  "
      ]
     },
     "execution_count": 34,
     "metadata": {},
     "output_type": "execute_result"
    }
   ],
   "source": [
    "df_clean.head()"
   ]
  },
  {
   "cell_type": "code",
   "execution_count": 35,
   "id": "73c12b91-3efe-4480-a9f8-b67dd617f094",
   "metadata": {},
   "outputs": [],
   "source": [
    "df_clean.sort_index(inplace=True)"
   ]
  },
  {
   "cell_type": "code",
   "execution_count": 33,
   "id": "14735f06-d66d-463a-bd71-e85fef70c4c3",
   "metadata": {},
   "outputs": [],
   "source": [
    "# data['username'].values_count()\n"
   ]
  },
  {
   "cell_type": "code",
   "execution_count": 37,
   "id": "18edbf27-a2dd-4fa6-bec4-4c99ab3da960",
   "metadata": {},
   "outputs": [],
   "source": [
    "# data.axis(0).sum().values.count()#sort_values(ascending=False)"
   ]
  },
  {
   "cell_type": "code",
   "execution_count": null,
   "id": "4d8ee71e-fb5a-428c-92ac-12ca9bb985d2",
   "metadata": {},
   "outputs": [],
   "source": []
  },
  {
   "cell_type": "code",
   "execution_count": 32,
   "id": "be989acd-fb4c-4ad9-a1db-c6ef28d3553e",
   "metadata": {},
   "outputs": [],
   "source": [
    "# df_clean.sum().iloc('userna?m')"
   ]
  },
  {
   "cell_type": "code",
   "execution_count": 36,
   "id": "a2177515-b4c1-424d-93f7-b205325ac818",
   "metadata": {},
   "outputs": [
    {
     "data": {
      "text/plain": [
       "username\n",
       "Gabriel     3\n",
       "David       3\n",
       "Samuel      3\n",
       "Patricia    3\n",
       "Yannick     3\n",
       "Valerie     2\n",
       "Thomas      2\n",
       "Claire      2\n",
       "Fabrice     2\n",
       "Ange        1\n",
       "Koffi       1\n",
       "Viviane     1\n",
       "Thierry     1\n",
       "Amoudou     1\n",
       "Salenom     1\n",
       "Rose        1\n",
       "Pierre      1\n",
       "Paul        1\n",
       "Andre       1\n",
       "Martin      1\n",
       "Marie       1\n",
       "Ismael      1\n",
       "Josiane     1\n",
       "Bernad      1\n",
       "Isabelle    1\n",
       "Amelie      1\n",
       "Florence    1\n",
       "Esther      1\n",
       "Eric        1\n",
       "André       1\n",
       "Corinne     1\n",
       "Chantal     1\n",
       "Celistin    1\n",
       "Celestin    1\n",
       "Brigitte    1\n",
       "Amadou      1\n",
       "Name: question, dtype: int64"
      ]
     },
     "execution_count": 36,
     "metadata": {},
     "output_type": "execute_result"
    }
   ],
   "source": [
    "\n",
    "df4 = df_clean.groupby('username').count()[\"question\"].sort_values(ascending=False) \n",
    "df4"
   ]
  },
  {
   "cell_type": "code",
   "execution_count": 37,
   "id": "983687e1-fbec-4a01-bd5d-b8ead71e7e02",
   "metadata": {},
   "outputs": [],
   "source": [
    " # df5 = .groupby('use?rname').count()[\"question\"].sort_values(ascending=False"
   ]
  },
  {
   "cell_type": "code",
   "execution_count": 38,
   "id": "6a09fbb9-3b44-44b7-9ac1-082918b1a84d",
   "metadata": {},
   "outputs": [
    {
     "data": {
      "text/plain": [
       "3"
      ]
     },
     "execution_count": 38,
     "metadata": {},
     "output_type": "execute_result"
    }
   ],
   "source": [
    "df2 = max(df_clean.groupby('username').count()[\"question\"])\n",
    "# df_clean[\"username\"].count()[\"question\"] == df2\n",
    "df2"
   ]
  },
  {
   "cell_type": "code",
   "execution_count": 97,
   "id": "63019856-a279-4452-b15f-028522fecffd",
   "metadata": {},
   "outputs": [
    {
     "data": {
      "text/html": [
       "<div>\n",
       "<style scoped>\n",
       "    .dataframe tbody tr th:only-of-type {\n",
       "        vertical-align: middle;\n",
       "    }\n",
       "\n",
       "    .dataframe tbody tr th {\n",
       "        vertical-align: top;\n",
       "    }\n",
       "\n",
       "    .dataframe thead th {\n",
       "        text-align: right;\n",
       "    }\n",
       "</style>\n",
       "<table border=\"1\" class=\"dataframe\">\n",
       "  <thead>\n",
       "    <tr style=\"text-align: right;\">\n",
       "      <th></th>\n",
       "      <th>username</th>\n",
       "      <th>question</th>\n",
       "      <th>response</th>\n",
       "      <th>date</th>\n",
       "      <th>count</th>\n",
       "    </tr>\n",
       "    <tr>\n",
       "      <th>id</th>\n",
       "      <th></th>\n",
       "      <th></th>\n",
       "      <th></th>\n",
       "      <th></th>\n",
       "      <th></th>\n",
       "    </tr>\n",
       "  </thead>\n",
       "  <tbody>\n",
       "    <tr>\n",
       "      <th>1</th>\n",
       "      <td>Amadou</td>\n",
       "      <td>Qu'est ce que ce chatbot ?</td>\n",
       "      <td>Ce chatbot est concu pour vous aider à vous pr...</td>\n",
       "      <td>09/02/24 03:32 PM</td>\n",
       "      <td>3</td>\n",
       "    </tr>\n",
       "    <tr>\n",
       "      <th>2</th>\n",
       "      <td>Andre</td>\n",
       "      <td>Comment fonctionne ce chabot ?</td>\n",
       "      <td>ce chatbot vous pose des questions pour collec...</td>\n",
       "      <td>09/15/24</td>\n",
       "      <td>3</td>\n",
       "    </tr>\n",
       "    <tr>\n",
       "      <th>3</th>\n",
       "      <td>Esther</td>\n",
       "      <td>Comment fonctionne ce chabot ?</td>\n",
       "      <td>ce chatbotbot vous pose des questions pour col...</td>\n",
       "      <td>09/28/24 09:19 PM</td>\n",
       "      <td>3</td>\n",
       "    </tr>\n",
       "    <tr>\n",
       "      <th>4</th>\n",
       "      <td>Corinne</td>\n",
       "      <td>Quels sont les avantages de l'utilisation de c...</td>\n",
       "      <td>ce chatbot vous permet de vous preinscrire rap...</td>\n",
       "      <td>09/09/24 03:56 AM</td>\n",
       "      <td>3</td>\n",
       "    </tr>\n",
       "    <tr>\n",
       "      <th>5</th>\n",
       "      <td>Yannick</td>\n",
       "      <td>Qu'est ce que ce chatbot ?</td>\n",
       "      <td>Ce chatbot est concu pour vous aider à vous pr...</td>\n",
       "      <td>09/21/24 05:09 PM</td>\n",
       "      <td>3</td>\n",
       "    </tr>\n",
       "    <tr>\n",
       "      <th>6</th>\n",
       "      <td>André</td>\n",
       "      <td>Comment puis-je me preinscrire en ligne ?</td>\n",
       "      <td>suivez les etapes du chatbot pour founir vos i...</td>\n",
       "      <td>05/09/24 11:23 AM</td>\n",
       "      <td>3</td>\n",
       "    </tr>\n",
       "    <tr>\n",
       "      <th>7</th>\n",
       "      <td>Thierry</td>\n",
       "      <td>Quels documents dois je fournir pour la preins...</td>\n",
       "      <td>Veuillez fournir une copie de votre piece d'id...</td>\n",
       "      <td>09/15/24 08:47 AM</td>\n",
       "      <td>3</td>\n",
       "    </tr>\n",
       "    <tr>\n",
       "      <th>8</th>\n",
       "      <td>Claire</td>\n",
       "      <td>Quels sont les criteres d'accessibilité pour l...</td>\n",
       "      <td>Veuilllez consulter note sibe web pour obtenir...</td>\n",
       "      <td>09/27/24 02:26 PM</td>\n",
       "      <td>3</td>\n",
       "    </tr>\n",
       "    <tr>\n",
       "      <th>9</th>\n",
       "      <td>Yannick</td>\n",
       "      <td>Quels sont les avantages de l'utilisation de c...</td>\n",
       "      <td>ce chatbot vous permet de vous preinscrire rap...</td>\n",
       "      <td>09/05/24 11:24 AM</td>\n",
       "      <td>3</td>\n",
       "    </tr>\n",
       "    <tr>\n",
       "      <th>11</th>\n",
       "      <td>Patricia</td>\n",
       "      <td>Quels sont les criteres d'accessibilité pour l...</td>\n",
       "      <td>Veuilllez consulter note sibe web pour obtenir...</td>\n",
       "      <td>09/22/24 08:10 PM</td>\n",
       "      <td>3</td>\n",
       "    </tr>\n",
       "    <tr>\n",
       "      <th>12</th>\n",
       "      <td>Valerie</td>\n",
       "      <td>Comment obtenir plus d'informations sur le pro...</td>\n",
       "      <td>Veuillez consulter notre site web ou nous cont...</td>\n",
       "      <td>09/06/24 08:06 PM</td>\n",
       "      <td>3</td>\n",
       "    </tr>\n",
       "    <tr>\n",
       "      <th>13</th>\n",
       "      <td>Valerie</td>\n",
       "      <td>Qu'est ce que ce chatbot ?</td>\n",
       "      <td>Ce chatbot est concu pour vous aider à vous pr...</td>\n",
       "      <td>09/05/24 11:28 AM</td>\n",
       "      <td>3</td>\n",
       "    </tr>\n",
       "    <tr>\n",
       "      <th>14</th>\n",
       "      <td>Fabrice</td>\n",
       "      <td>Puis je preinscrire si je n'ai pas de diplome ...</td>\n",
       "      <td>Non, vous devez avoir le diplome requis pour e...</td>\n",
       "      <td>09/20/24 09:50 AM</td>\n",
       "      <td>3</td>\n",
       "    </tr>\n",
       "    <tr>\n",
       "      <th>15</th>\n",
       "      <td>David</td>\n",
       "      <td>Quels sont les criteres d'accessibilité pour l...</td>\n",
       "      <td>Veuillez consulter notre site web pour obtenir...</td>\n",
       "      <td>09/18/24 12:27 AM</td>\n",
       "      <td>3</td>\n",
       "    </tr>\n",
       "    <tr>\n",
       "      <th>16</th>\n",
       "      <td>Celestin</td>\n",
       "      <td>Combien coute la preinscription ?</td>\n",
       "      <td>La preinscription est gratuite</td>\n",
       "      <td>09/18/24 12:27 AM</td>\n",
       "      <td>3</td>\n",
       "    </tr>\n",
       "    <tr>\n",
       "      <th>17</th>\n",
       "      <td>Florence</td>\n",
       "      <td>Quels sont les avantages de l'utilisation de c...</td>\n",
       "      <td>ce chatbot vous permet de vous preinscrire rap...</td>\n",
       "      <td>09/18/24 12:28 AM</td>\n",
       "      <td>3</td>\n",
       "    </tr>\n",
       "    <tr>\n",
       "      <th>18</th>\n",
       "      <td>Patricia</td>\n",
       "      <td>Combien de temps prend la verification des doc...</td>\n",
       "      <td>La verification des documents prend environ 3-...</td>\n",
       "      <td>09/24/24 04:00 AM</td>\n",
       "      <td>3</td>\n",
       "    </tr>\n",
       "    <tr>\n",
       "      <th>20</th>\n",
       "      <td>Marie</td>\n",
       "      <td>Quels sont les avantages de l'utilisation de c...</td>\n",
       "      <td>ce chatbot vous permet de vous preinscrire rap...</td>\n",
       "      <td>09/26/24 04:30 AM</td>\n",
       "      <td>3</td>\n",
       "    </tr>\n",
       "    <tr>\n",
       "      <th>21</th>\n",
       "      <td>Koffi</td>\n",
       "      <td>Quels sont les formats de fichiers acceptes ?</td>\n",
       "      <td>Nous acceptons les fichiers pdf , jpeg , png</td>\n",
       "      <td>09/18/24 12:28 AM</td>\n",
       "      <td>3</td>\n",
       "    </tr>\n",
       "    <tr>\n",
       "      <th>22</th>\n",
       "      <td>Paul</td>\n",
       "      <td>J'ai des problemes pour telecharger mes docume...</td>\n",
       "      <td>Veuillez verifier que vos fichiers sont au for...</td>\n",
       "      <td>09/12/24 12:21 AM</td>\n",
       "      <td>3</td>\n",
       "    </tr>\n",
       "    <tr>\n",
       "      <th>23</th>\n",
       "      <td>Samuel</td>\n",
       "      <td>Comment puis-je payer les frais de scolarité ?</td>\n",
       "      <td>Vous pouvez payer les frais de sclarite en lig...</td>\n",
       "      <td>09/20/24 08:01 PM</td>\n",
       "      <td>3</td>\n",
       "    </tr>\n",
       "    <tr>\n",
       "      <th>24</th>\n",
       "      <td>Pierre</td>\n",
       "      <td>Comment fonctionne ce chabot ?</td>\n",
       "      <td>ce chatbotbot vous pose des questions pour col...</td>\n",
       "      <td>09/10/24 12:03 AM</td>\n",
       "      <td>3</td>\n",
       "    </tr>\n",
       "    <tr>\n",
       "      <th>28</th>\n",
       "      <td>Thomas</td>\n",
       "      <td>Puis je preinscrire si je n'ai pas de diplome ...</td>\n",
       "      <td>Non, vous devez avoir le diplome requis pour e...</td>\n",
       "      <td>09/24/24 04:59 AM</td>\n",
       "      <td>3</td>\n",
       "    </tr>\n",
       "    <tr>\n",
       "      <th>31</th>\n",
       "      <td>Viviane</td>\n",
       "      <td>Quel sont les cours obligatoires pour le progr...</td>\n",
       "      <td>Veuilllez consulter note sibe web pour obtenir...</td>\n",
       "      <td>09/22/24 08:41 PM</td>\n",
       "      <td>3</td>\n",
       "    </tr>\n",
       "    <tr>\n",
       "      <th>32</th>\n",
       "      <td>Josiane</td>\n",
       "      <td>Quels sont les avantages de l'utilisation de c...</td>\n",
       "      <td>ce chatbot vous permet de vous preinscrire rap...</td>\n",
       "      <td>09/05/24 11:23 AM</td>\n",
       "      <td>3</td>\n",
       "    </tr>\n",
       "    <tr>\n",
       "      <th>36</th>\n",
       "      <td>Amoudou</td>\n",
       "      <td>Quels sont les avantages de l'utilisation de c...</td>\n",
       "      <td>ce chatbot vous permet de vous preinscrire rap...</td>\n",
       "      <td>09/31/2024  16:28</td>\n",
       "      <td>3</td>\n",
       "    </tr>\n",
       "    <tr>\n",
       "      <th>37</th>\n",
       "      <td>Gabriel</td>\n",
       "      <td>Comment fonctionne ce chabot ?</td>\n",
       "      <td>ce chatbot vous pose des questions pour collec...</td>\n",
       "      <td>09/10/24 07:45 AM</td>\n",
       "      <td>3</td>\n",
       "    </tr>\n",
       "    <tr>\n",
       "      <th>39</th>\n",
       "      <td>Gabriel</td>\n",
       "      <td>Quels sont les avantages de l'utilisation de c...</td>\n",
       "      <td>ce chatbot vous permet de vous preinscrire rap...</td>\n",
       "      <td>09/18/24 12:28 AM</td>\n",
       "      <td>3</td>\n",
       "    </tr>\n",
       "    <tr>\n",
       "      <th>40</th>\n",
       "      <td>Gabriel</td>\n",
       "      <td>Combien de documents puis-je telechargé ?</td>\n",
       "      <td>Vous pouvez telecharger jusqu'à 5 documents</td>\n",
       "      <td>09/06/24 08:06 PM</td>\n",
       "      <td>3</td>\n",
       "    </tr>\n",
       "    <tr>\n",
       "      <th>41</th>\n",
       "      <td>Thomas</td>\n",
       "      <td>Quels sont les delais de ma preinscriptions ?</td>\n",
       "      <td>Les delais pour la preinscritpion sont disponi...</td>\n",
       "      <td>09/11/24 07:45 AM</td>\n",
       "      <td>3</td>\n",
       "    </tr>\n",
       "    <tr>\n",
       "      <th>43</th>\n",
       "      <td>Yannick</td>\n",
       "      <td>Qu'est ce que ce chatbot ?</td>\n",
       "      <td>Ce chatbot est concu pour vous aider à vous pr...</td>\n",
       "      <td>09/08/24 05:29 AM</td>\n",
       "      <td>3</td>\n",
       "    </tr>\n",
       "    <tr>\n",
       "      <th>44</th>\n",
       "      <td>Isabelle</td>\n",
       "      <td>Quels sont les avantages de l'utilisation de c...</td>\n",
       "      <td>ce chatbot vous permet de vous preinscrire rap...</td>\n",
       "      <td>09/06/24 06:13 AM</td>\n",
       "      <td>3</td>\n",
       "    </tr>\n",
       "    <tr>\n",
       "      <th>46</th>\n",
       "      <td>Chantal</td>\n",
       "      <td>Quels documents dois je fournir pour la preins...</td>\n",
       "      <td>Veuillez fournir une copie de votre piece d'id...</td>\n",
       "      <td>09/16/24 05:35 PM</td>\n",
       "      <td>3</td>\n",
       "    </tr>\n",
       "    <tr>\n",
       "      <th>47</th>\n",
       "      <td>Brigitte</td>\n",
       "      <td>Combien de credits dois-je obtenir pour valide...</td>\n",
       "      <td>Vous devez obtenir 30 credits pour valider vot...</td>\n",
       "      <td>09/10/24 10:06 PM</td>\n",
       "      <td>3</td>\n",
       "    </tr>\n",
       "    <tr>\n",
       "      <th>48</th>\n",
       "      <td>Claire</td>\n",
       "      <td>Combien coute la preinscription ?</td>\n",
       "      <td>La preinscription est gratuite</td>\n",
       "      <td>09/18/24 12:28 AM</td>\n",
       "      <td>3</td>\n",
       "    </tr>\n",
       "    <tr>\n",
       "      <th>49</th>\n",
       "      <td>Amelie</td>\n",
       "      <td>Qu'est ce que ce chatbot ?</td>\n",
       "      <td>Ce chatbot est concu pour vous aider à vous pr...</td>\n",
       "      <td>09/22/24 08:00 PM</td>\n",
       "      <td>3</td>\n",
       "    </tr>\n",
       "    <tr>\n",
       "      <th>51</th>\n",
       "      <td>Samuel</td>\n",
       "      <td>Quels sont les avantages de l'utilisation de c...</td>\n",
       "      <td>ce chatbot vous permet de vous preinscrire rap...</td>\n",
       "      <td>09/05/24 05:08 PM</td>\n",
       "      <td>3</td>\n",
       "    </tr>\n",
       "    <tr>\n",
       "      <th>53</th>\n",
       "      <td>Martin</td>\n",
       "      <td>Comment fonctionne ce chabot ?</td>\n",
       "      <td>ce chatbot vous pose des questions pour collec...</td>\n",
       "      <td>09/07/24 08:06 PM</td>\n",
       "      <td>3</td>\n",
       "    </tr>\n",
       "    <tr>\n",
       "      <th>55</th>\n",
       "      <td>David</td>\n",
       "      <td>Comment puis-je payer les frais de scolarité ?</td>\n",
       "      <td>Vous pouvez payer les frais de sclarite en lig...</td>\n",
       "      <td>09/19/24 01:11 AM</td>\n",
       "      <td>3</td>\n",
       "    </tr>\n",
       "    <tr>\n",
       "      <th>56</th>\n",
       "      <td>David</td>\n",
       "      <td>Qu'est ce que ce chatbot ?</td>\n",
       "      <td>Ce chatbot est concu pour vous aider à vous pr...</td>\n",
       "      <td>09/30/24 08:06 PM</td>\n",
       "      <td>3</td>\n",
       "    </tr>\n",
       "    <tr>\n",
       "      <th>58</th>\n",
       "      <td>Salenom</td>\n",
       "      <td>Comment fonctionne ce chabot ?</td>\n",
       "      <td>ce chatbotbot vous pose des questions pour col...</td>\n",
       "      <td>09/03/24 03:20 AM</td>\n",
       "      <td>3</td>\n",
       "    </tr>\n",
       "    <tr>\n",
       "      <th>59</th>\n",
       "      <td>Bernad</td>\n",
       "      <td>Quels sont les avantages de l'utilisation de c...</td>\n",
       "      <td>ce chatbot vous permet de vous preinscrire rap...</td>\n",
       "      <td>09/10/24 12:54 AM</td>\n",
       "      <td>3</td>\n",
       "    </tr>\n",
       "    <tr>\n",
       "      <th>60</th>\n",
       "      <td>Eric</td>\n",
       "      <td>Comment fonctionne ce chabot ?</td>\n",
       "      <td>ce chatbotbot vous pose des questions pour col...</td>\n",
       "      <td>09/15/24 03:37 PM</td>\n",
       "      <td>3</td>\n",
       "    </tr>\n",
       "    <tr>\n",
       "      <th>61</th>\n",
       "      <td>Samuel</td>\n",
       "      <td>Puis-je annuler ma preinscription ?</td>\n",
       "      <td>Oui, vous pouvez annuker votre preinscription ...</td>\n",
       "      <td>09/12/24 12:28 AM</td>\n",
       "      <td>3</td>\n",
       "    </tr>\n",
       "    <tr>\n",
       "      <th>63</th>\n",
       "      <td>Rose</td>\n",
       "      <td>Le chatbot ne fonctionne pas</td>\n",
       "      <td>Hello ! Comment puis-je vous aider aujourd'hui ?</td>\n",
       "      <td>09/06/24 08:06 PM</td>\n",
       "      <td>3</td>\n",
       "    </tr>\n",
       "    <tr>\n",
       "      <th>54</th>\n",
       "      <td>Patricia</td>\n",
       "      <td>Comment je serai informe de la decision relati...</td>\n",
       "      <td>Vous serez informe par courriel ou par telephone</td>\n",
       "      <td>09/06/24 04:06 AM</td>\n",
       "      <td>3</td>\n",
       "    </tr>\n",
       "    <tr>\n",
       "      <th>65</th>\n",
       "      <td>Fabrice</td>\n",
       "      <td>Comment je serai informe de la decision relati...</td>\n",
       "      <td>Vous serez informe par courriel ou par telephone</td>\n",
       "      <td>09/06/24 08:41 PM</td>\n",
       "      <td>3</td>\n",
       "    </tr>\n",
       "    <tr>\n",
       "      <th>66</th>\n",
       "      <td>Celistin</td>\n",
       "      <td>Puis -je me preinscrire en ligne si je suis á ...</td>\n",
       "      <td>Oui, vous pouvez vous preinscrire depuis n'imp...</td>\n",
       "      <td>09/01/24 10:37 PM</td>\n",
       "      <td>3</td>\n",
       "    </tr>\n",
       "    <tr>\n",
       "      <th>68</th>\n",
       "      <td>Ange</td>\n",
       "      <td>Combien de temps prend la verification des doc...</td>\n",
       "      <td>La verification des documents prend environ 3-...</td>\n",
       "      <td>09/06/24 08:03 PM</td>\n",
       "      <td>3</td>\n",
       "    </tr>\n",
       "    <tr>\n",
       "      <th>70</th>\n",
       "      <td>Ismael</td>\n",
       "      <td>Puis-je annuler ma preinscription ?</td>\n",
       "      <td>Oui, vous pouvez annuker votre preinscription ...</td>\n",
       "      <td>09/24/24 04:09 AM</td>\n",
       "      <td>3</td>\n",
       "    </tr>\n",
       "  </tbody>\n",
       "</table>\n",
       "</div>"
      ],
      "text/plain": [
       "    username                                           question  \\\n",
       "id                                                                \n",
       "1     Amadou                         Qu'est ce que ce chatbot ?   \n",
       "2      Andre                     Comment fonctionne ce chabot ?   \n",
       "3     Esther                     Comment fonctionne ce chabot ?   \n",
       "4    Corinne  Quels sont les avantages de l'utilisation de c...   \n",
       "5    Yannick                         Qu'est ce que ce chatbot ?   \n",
       "6      André          Comment puis-je me preinscrire en ligne ?   \n",
       "7    Thierry  Quels documents dois je fournir pour la preins...   \n",
       "8     Claire  Quels sont les criteres d'accessibilité pour l...   \n",
       "9    Yannick  Quels sont les avantages de l'utilisation de c...   \n",
       "11  Patricia  Quels sont les criteres d'accessibilité pour l...   \n",
       "12   Valerie  Comment obtenir plus d'informations sur le pro...   \n",
       "13   Valerie                         Qu'est ce que ce chatbot ?   \n",
       "14   Fabrice  Puis je preinscrire si je n'ai pas de diplome ...   \n",
       "15     David  Quels sont les criteres d'accessibilité pour l...   \n",
       "16  Celestin                  Combien coute la preinscription ?   \n",
       "17  Florence  Quels sont les avantages de l'utilisation de c...   \n",
       "18  Patricia  Combien de temps prend la verification des doc...   \n",
       "20     Marie  Quels sont les avantages de l'utilisation de c...   \n",
       "21     Koffi      Quels sont les formats de fichiers acceptes ?   \n",
       "22      Paul  J'ai des problemes pour telecharger mes docume...   \n",
       "23    Samuel     Comment puis-je payer les frais de scolarité ?   \n",
       "24    Pierre                     Comment fonctionne ce chabot ?   \n",
       "28    Thomas  Puis je preinscrire si je n'ai pas de diplome ...   \n",
       "31   Viviane  Quel sont les cours obligatoires pour le progr...   \n",
       "32   Josiane  Quels sont les avantages de l'utilisation de c...   \n",
       "36   Amoudou  Quels sont les avantages de l'utilisation de c...   \n",
       "37   Gabriel                     Comment fonctionne ce chabot ?   \n",
       "39   Gabriel  Quels sont les avantages de l'utilisation de c...   \n",
       "40   Gabriel          Combien de documents puis-je telechargé ?   \n",
       "41    Thomas      Quels sont les delais de ma preinscriptions ?   \n",
       "43   Yannick                         Qu'est ce que ce chatbot ?   \n",
       "44  Isabelle  Quels sont les avantages de l'utilisation de c...   \n",
       "46   Chantal  Quels documents dois je fournir pour la preins...   \n",
       "47  Brigitte  Combien de credits dois-je obtenir pour valide...   \n",
       "48    Claire                  Combien coute la preinscription ?   \n",
       "49    Amelie                         Qu'est ce que ce chatbot ?   \n",
       "51    Samuel  Quels sont les avantages de l'utilisation de c...   \n",
       "53    Martin                     Comment fonctionne ce chabot ?   \n",
       "55     David     Comment puis-je payer les frais de scolarité ?   \n",
       "56     David                         Qu'est ce que ce chatbot ?   \n",
       "58   Salenom                     Comment fonctionne ce chabot ?   \n",
       "59    Bernad  Quels sont les avantages de l'utilisation de c...   \n",
       "60      Eric                     Comment fonctionne ce chabot ?   \n",
       "61    Samuel                Puis-je annuler ma preinscription ?   \n",
       "63      Rose                       Le chatbot ne fonctionne pas   \n",
       "54  Patricia  Comment je serai informe de la decision relati...   \n",
       "65   Fabrice  Comment je serai informe de la decision relati...   \n",
       "66  Celistin  Puis -je me preinscrire en ligne si je suis á ...   \n",
       "68      Ange  Combien de temps prend la verification des doc...   \n",
       "70    Ismael                Puis-je annuler ma preinscription ?   \n",
       "\n",
       "                                             response               date  \\\n",
       "id                                                                         \n",
       "1   Ce chatbot est concu pour vous aider à vous pr...  09/02/24 03:32 PM   \n",
       "2   ce chatbot vous pose des questions pour collec...           09/15/24   \n",
       "3   ce chatbotbot vous pose des questions pour col...  09/28/24 09:19 PM   \n",
       "4   ce chatbot vous permet de vous preinscrire rap...  09/09/24 03:56 AM   \n",
       "5   Ce chatbot est concu pour vous aider à vous pr...  09/21/24 05:09 PM   \n",
       "6   suivez les etapes du chatbot pour founir vos i...  05/09/24 11:23 AM   \n",
       "7   Veuillez fournir une copie de votre piece d'id...  09/15/24 08:47 AM   \n",
       "8   Veuilllez consulter note sibe web pour obtenir...  09/27/24 02:26 PM   \n",
       "9   ce chatbot vous permet de vous preinscrire rap...  09/05/24 11:24 AM   \n",
       "11  Veuilllez consulter note sibe web pour obtenir...  09/22/24 08:10 PM   \n",
       "12  Veuillez consulter notre site web ou nous cont...  09/06/24 08:06 PM   \n",
       "13  Ce chatbot est concu pour vous aider à vous pr...  09/05/24 11:28 AM   \n",
       "14  Non, vous devez avoir le diplome requis pour e...  09/20/24 09:50 AM   \n",
       "15  Veuillez consulter notre site web pour obtenir...  09/18/24 12:27 AM   \n",
       "16                     La preinscription est gratuite  09/18/24 12:27 AM   \n",
       "17  ce chatbot vous permet de vous preinscrire rap...  09/18/24 12:28 AM   \n",
       "18  La verification des documents prend environ 3-...  09/24/24 04:00 AM   \n",
       "20  ce chatbot vous permet de vous preinscrire rap...  09/26/24 04:30 AM   \n",
       "21       Nous acceptons les fichiers pdf , jpeg , png  09/18/24 12:28 AM   \n",
       "22  Veuillez verifier que vos fichiers sont au for...  09/12/24 12:21 AM   \n",
       "23  Vous pouvez payer les frais de sclarite en lig...  09/20/24 08:01 PM   \n",
       "24  ce chatbotbot vous pose des questions pour col...  09/10/24 12:03 AM   \n",
       "28  Non, vous devez avoir le diplome requis pour e...  09/24/24 04:59 AM   \n",
       "31  Veuilllez consulter note sibe web pour obtenir...  09/22/24 08:41 PM   \n",
       "32  ce chatbot vous permet de vous preinscrire rap...  09/05/24 11:23 AM   \n",
       "36  ce chatbot vous permet de vous preinscrire rap...  09/31/2024  16:28   \n",
       "37  ce chatbot vous pose des questions pour collec...  09/10/24 07:45 AM   \n",
       "39  ce chatbot vous permet de vous preinscrire rap...  09/18/24 12:28 AM   \n",
       "40        Vous pouvez telecharger jusqu'à 5 documents  09/06/24 08:06 PM   \n",
       "41  Les delais pour la preinscritpion sont disponi...  09/11/24 07:45 AM   \n",
       "43  Ce chatbot est concu pour vous aider à vous pr...  09/08/24 05:29 AM   \n",
       "44  ce chatbot vous permet de vous preinscrire rap...  09/06/24 06:13 AM   \n",
       "46  Veuillez fournir une copie de votre piece d'id...  09/16/24 05:35 PM   \n",
       "47  Vous devez obtenir 30 credits pour valider vot...  09/10/24 10:06 PM   \n",
       "48                     La preinscription est gratuite  09/18/24 12:28 AM   \n",
       "49  Ce chatbot est concu pour vous aider à vous pr...  09/22/24 08:00 PM   \n",
       "51  ce chatbot vous permet de vous preinscrire rap...  09/05/24 05:08 PM   \n",
       "53  ce chatbot vous pose des questions pour collec...  09/07/24 08:06 PM   \n",
       "55  Vous pouvez payer les frais de sclarite en lig...  09/19/24 01:11 AM   \n",
       "56  Ce chatbot est concu pour vous aider à vous pr...  09/30/24 08:06 PM   \n",
       "58  ce chatbotbot vous pose des questions pour col...  09/03/24 03:20 AM   \n",
       "59  ce chatbot vous permet de vous preinscrire rap...  09/10/24 12:54 AM   \n",
       "60  ce chatbotbot vous pose des questions pour col...  09/15/24 03:37 PM   \n",
       "61  Oui, vous pouvez annuker votre preinscription ...  09/12/24 12:28 AM   \n",
       "63   Hello ! Comment puis-je vous aider aujourd'hui ?  09/06/24 08:06 PM   \n",
       "54   Vous serez informe par courriel ou par telephone  09/06/24 04:06 AM   \n",
       "65   Vous serez informe par courriel ou par telephone  09/06/24 08:41 PM   \n",
       "66  Oui, vous pouvez vous preinscrire depuis n'imp...  09/01/24 10:37 PM   \n",
       "68  La verification des documents prend environ 3-...  09/06/24 08:03 PM   \n",
       "70  Oui, vous pouvez annuker votre preinscription ...  09/24/24 04:09 AM   \n",
       "\n",
       "    count  \n",
       "id         \n",
       "1       3  \n",
       "2       3  \n",
       "3       3  \n",
       "4       3  \n",
       "5       3  \n",
       "6       3  \n",
       "7       3  \n",
       "8       3  \n",
       "9       3  \n",
       "11      3  \n",
       "12      3  \n",
       "13      3  \n",
       "14      3  \n",
       "15      3  \n",
       "16      3  \n",
       "17      3  \n",
       "18      3  \n",
       "20      3  \n",
       "21      3  \n",
       "22      3  \n",
       "23      3  \n",
       "24      3  \n",
       "28      3  \n",
       "31      3  \n",
       "32      3  \n",
       "36      3  \n",
       "37      3  \n",
       "39      3  \n",
       "40      3  \n",
       "41      3  \n",
       "43      3  \n",
       "44      3  \n",
       "46      3  \n",
       "47      3  \n",
       "48      3  \n",
       "49      3  \n",
       "51      3  \n",
       "53      3  \n",
       "55      3  \n",
       "56      3  \n",
       "58      3  \n",
       "59      3  \n",
       "60      3  \n",
       "61      3  \n",
       "63      3  \n",
       "54      3  \n",
       "65      3  \n",
       "66      3  \n",
       "68      3  \n",
       "70      3  "
      ]
     },
     "execution_count": 97,
     "metadata": {},
     "output_type": "execute_result"
    }
   ],
   "source": [
    "data"
   ]
  },
  {
   "cell_type": "code",
   "execution_count": 148,
   "id": "ab8c32b1-3306-4adc-b47b-cced3b31a802",
   "metadata": {},
   "outputs": [
    {
     "data": {
      "text/html": [
       "<div>\n",
       "<style scoped>\n",
       "    .dataframe tbody tr th:only-of-type {\n",
       "        vertical-align: middle;\n",
       "    }\n",
       "\n",
       "    .dataframe tbody tr th {\n",
       "        vertical-align: top;\n",
       "    }\n",
       "\n",
       "    .dataframe thead th {\n",
       "        text-align: right;\n",
       "    }\n",
       "</style>\n",
       "<table border=\"1\" class=\"dataframe\">\n",
       "  <thead>\n",
       "    <tr style=\"text-align: right;\">\n",
       "      <th></th>\n",
       "      <th>question</th>\n",
       "    </tr>\n",
       "    <tr>\n",
       "      <th>username</th>\n",
       "      <th></th>\n",
       "    </tr>\n",
       "  </thead>\n",
       "  <tbody>\n",
       "    <tr>\n",
       "      <th>Gabriel</th>\n",
       "      <td>3</td>\n",
       "    </tr>\n",
       "    <tr>\n",
       "      <th>David</th>\n",
       "      <td>3</td>\n",
       "    </tr>\n",
       "    <tr>\n",
       "      <th>Samuel</th>\n",
       "      <td>3</td>\n",
       "    </tr>\n",
       "    <tr>\n",
       "      <th>Patricia</th>\n",
       "      <td>3</td>\n",
       "    </tr>\n",
       "    <tr>\n",
       "      <th>Yannick</th>\n",
       "      <td>3</td>\n",
       "    </tr>\n",
       "    <tr>\n",
       "      <th>Valerie</th>\n",
       "      <td>2</td>\n",
       "    </tr>\n",
       "    <tr>\n",
       "      <th>Thomas</th>\n",
       "      <td>2</td>\n",
       "    </tr>\n",
       "    <tr>\n",
       "      <th>Claire</th>\n",
       "      <td>2</td>\n",
       "    </tr>\n",
       "    <tr>\n",
       "      <th>Fabrice</th>\n",
       "      <td>2</td>\n",
       "    </tr>\n",
       "    <tr>\n",
       "      <th>Ange</th>\n",
       "      <td>1</td>\n",
       "    </tr>\n",
       "    <tr>\n",
       "      <th>Koffi</th>\n",
       "      <td>1</td>\n",
       "    </tr>\n",
       "    <tr>\n",
       "      <th>Viviane</th>\n",
       "      <td>1</td>\n",
       "    </tr>\n",
       "    <tr>\n",
       "      <th>Thierry</th>\n",
       "      <td>1</td>\n",
       "    </tr>\n",
       "    <tr>\n",
       "      <th>Amoudou</th>\n",
       "      <td>1</td>\n",
       "    </tr>\n",
       "    <tr>\n",
       "      <th>Salenom</th>\n",
       "      <td>1</td>\n",
       "    </tr>\n",
       "    <tr>\n",
       "      <th>Rose</th>\n",
       "      <td>1</td>\n",
       "    </tr>\n",
       "    <tr>\n",
       "      <th>Pierre</th>\n",
       "      <td>1</td>\n",
       "    </tr>\n",
       "    <tr>\n",
       "      <th>Paul</th>\n",
       "      <td>1</td>\n",
       "    </tr>\n",
       "    <tr>\n",
       "      <th>Andre</th>\n",
       "      <td>1</td>\n",
       "    </tr>\n",
       "    <tr>\n",
       "      <th>Martin</th>\n",
       "      <td>1</td>\n",
       "    </tr>\n",
       "    <tr>\n",
       "      <th>Marie</th>\n",
       "      <td>1</td>\n",
       "    </tr>\n",
       "    <tr>\n",
       "      <th>Ismael</th>\n",
       "      <td>1</td>\n",
       "    </tr>\n",
       "    <tr>\n",
       "      <th>Josiane</th>\n",
       "      <td>1</td>\n",
       "    </tr>\n",
       "    <tr>\n",
       "      <th>Bernad</th>\n",
       "      <td>1</td>\n",
       "    </tr>\n",
       "    <tr>\n",
       "      <th>Isabelle</th>\n",
       "      <td>1</td>\n",
       "    </tr>\n",
       "    <tr>\n",
       "      <th>Amelie</th>\n",
       "      <td>1</td>\n",
       "    </tr>\n",
       "    <tr>\n",
       "      <th>Florence</th>\n",
       "      <td>1</td>\n",
       "    </tr>\n",
       "    <tr>\n",
       "      <th>Esther</th>\n",
       "      <td>1</td>\n",
       "    </tr>\n",
       "    <tr>\n",
       "      <th>Eric</th>\n",
       "      <td>1</td>\n",
       "    </tr>\n",
       "    <tr>\n",
       "      <th>André</th>\n",
       "      <td>1</td>\n",
       "    </tr>\n",
       "    <tr>\n",
       "      <th>Corinne</th>\n",
       "      <td>1</td>\n",
       "    </tr>\n",
       "    <tr>\n",
       "      <th>Chantal</th>\n",
       "      <td>1</td>\n",
       "    </tr>\n",
       "    <tr>\n",
       "      <th>Celistin</th>\n",
       "      <td>1</td>\n",
       "    </tr>\n",
       "    <tr>\n",
       "      <th>Celestin</th>\n",
       "      <td>1</td>\n",
       "    </tr>\n",
       "    <tr>\n",
       "      <th>Brigitte</th>\n",
       "      <td>1</td>\n",
       "    </tr>\n",
       "    <tr>\n",
       "      <th>Amadou</th>\n",
       "      <td>1</td>\n",
       "    </tr>\n",
       "    <tr>\n",
       "      <th>count</th>\n",
       "      <td>6</td>\n",
       "    </tr>\n",
       "  </tbody>\n",
       "</table>\n",
       "</div>"
      ],
      "text/plain": [
       "          question\n",
       "username          \n",
       "Gabriel          3\n",
       "David            3\n",
       "Samuel           3\n",
       "Patricia         3\n",
       "Yannick          3\n",
       "Valerie          2\n",
       "Thomas           2\n",
       "Claire           2\n",
       "Fabrice          2\n",
       "Ange             1\n",
       "Koffi            1\n",
       "Viviane          1\n",
       "Thierry          1\n",
       "Amoudou          1\n",
       "Salenom          1\n",
       "Rose             1\n",
       "Pierre           1\n",
       "Paul             1\n",
       "Andre            1\n",
       "Martin           1\n",
       "Marie            1\n",
       "Ismael           1\n",
       "Josiane          1\n",
       "Bernad           1\n",
       "Isabelle         1\n",
       "Amelie           1\n",
       "Florence         1\n",
       "Esther           1\n",
       "Eric             1\n",
       "André            1\n",
       "Corinne          1\n",
       "Chantal          1\n",
       "Celistin         1\n",
       "Celestin         1\n",
       "Brigitte         1\n",
       "Amadou           1\n",
       "count            6"
      ]
     },
     "execution_count": 148,
     "metadata": {},
     "output_type": "execute_result"
    }
   ],
   "source": [
    "# df_clean['username'].sort_values(ascending=False).plt.barh(figsize=(10, 8))\n",
    "df5 = pd.DataFrame(df4)\n",
    "# for i in range[1,len(df5)]:\n",
    "#     df5[\"id\"]= i\n",
    "# df4.columns = ['username','count']\n",
    "# df4.columns[\"count\"]= df4.columns[1]\n",
    "# df4[\"count\"] = 6\n",
    "# df6 = (df4['username'] == data['username'])\n",
    "df5"
   ]
  },
  {
   "cell_type": "code",
   "execution_count": null,
   "id": "fef6ec18-98a4-4a3e-8eab-c985d334017d",
   "metadata": {},
   "outputs": [],
   "source": []
  },
  {
   "cell_type": "code",
   "execution_count": 41,
   "id": "4cec6733-aaff-4ba9-965b-08dcfc9aaf99",
   "metadata": {},
   "outputs": [],
   "source": [
    "data2=data.copy()"
   ]
  },
  {
   "cell_type": "code",
   "execution_count": 42,
   "id": "0ddd743e-0427-45d3-86b9-a60dcd9ca2d7",
   "metadata": {},
   "outputs": [
    {
     "data": {
      "text/plain": [
       "array(['Amadou', 'Andre', 'Esther', 'Corinne', 'Yannick', 'André',\n",
       "       'Thierry', 'Claire', 'Patricia', 'Valerie', 'Fabrice', 'David',\n",
       "       'Celestin', 'Florence', 'Marie', 'Koffi', 'Paul', 'Samuel',\n",
       "       'Pierre', 'Thomas', 'Viviane', 'Josiane', 'Amoudou', 'Gabriel',\n",
       "       'Isabelle', 'Chantal', 'Brigitte', 'Amelie', 'Martin', 'Salenom',\n",
       "       'Bernad', 'Eric', 'Rose', 'Celistin', 'Ange', 'Ismael'],\n",
       "      dtype=object)"
      ]
     },
     "execution_count": 42,
     "metadata": {},
     "output_type": "execute_result"
    }
   ],
   "source": [
    "data2['username'].unique()"
   ]
  },
  {
   "cell_type": "code",
   "execution_count": 57,
   "id": "01ad62ac-4857-4fb8-9ec5-b070a70a5d62",
   "metadata": {},
   "outputs": [],
   "source": [
    "# data2.iloc(axis=0).values_count()"
   ]
  },
  {
   "cell_type": "code",
   "execution_count": 43,
   "id": "e178d1e9-3b60-4797-8e17-832061735736",
   "metadata": {},
   "outputs": [],
   "source": [
    "# data3= data\n",
    "# data3['count']=df4.loc(1)\n"
   ]
  },
  {
   "cell_type": "code",
   "execution_count": 75,
   "id": "7f8331b0-e576-4ffd-8618-c4144fb47632",
   "metadata": {},
   "outputs": [
    {
     "ename": "AttributeError",
     "evalue": "'numpy.int64' object has no attribute 'groupby'",
     "output_type": "error",
     "traceback": [
      "\u001b[1;31m---------------------------------------------------------------------------\u001b[0m",
      "\u001b[1;31mAttributeError\u001b[0m                            Traceback (most recent call last)",
      "Cell \u001b[1;32mIn[75], line 3\u001b[0m\n\u001b[0;32m      1\u001b[0m data4\u001b[38;5;241m=\u001b[39mpd\u001b[38;5;241m.\u001b[39mDataFrame(data3\u001b[38;5;241m.\u001b[39mgroupby(\u001b[38;5;124m'\u001b[39m\u001b[38;5;124mid\u001b[39m\u001b[38;5;124m'\u001b[39m)[\u001b[38;5;124m'\u001b[39m\u001b[38;5;124mcount\u001b[39m\u001b[38;5;124m'\u001b[39m]\u001b[38;5;241m.\u001b[39msum()\u001b[38;5;241m.\u001b[39msort_values(ascending\u001b[38;5;241m=\u001b[39m\u001b[38;5;28;01mFalse\u001b[39;00m))\n\u001b[0;32m      2\u001b[0m \u001b[38;5;66;03m# df_clean.groupby('Month')[\"chiffre_daffaire\"].sum().sort_values(ascending=False)\u001b[39;00m\n\u001b[1;32m----> 3\u001b[0m data4[\u001b[38;5;124m\"\u001b[39m\u001b[38;5;124mcount\u001b[39m\u001b[38;5;124m\"\u001b[39m]\u001b[38;5;241m=\u001b[39mdf_clean\u001b[38;5;241m.\u001b[39mcount()[\u001b[38;5;124m\"\u001b[39m\u001b[38;5;124mquestion\u001b[39m\u001b[38;5;124m\"\u001b[39m]\u001b[38;5;241m.\u001b[39mgroupby(\u001b[38;5;124m\"\u001b[39m\u001b[38;5;124musername\u001b[39m\u001b[38;5;124m\"\u001b[39m)\n\u001b[0;32m      4\u001b[0m data4\n",
      "\u001b[1;31mAttributeError\u001b[0m: 'numpy.int64' object has no attribute 'groupby'"
     ]
    }
   ],
   "source": [
    "data4=pd.DataFrame(data3.groupby('id')['count'].sum().sort_values(ascending=False))\n",
    "# df_clean.groupby('Month')[\"chiffre_daffaire\"].sum().sort_values(ascending=False)\n",
    "data4[\"count\"]=df_clean.count()[\"question\"].groupby(\"username\")\n",
    "data4"
   ]
  },
  {
   "cell_type": "code",
   "execution_count": 70,
   "id": "952a280a-64c4-48a1-9b36-4e3eaa45486c",
   "metadata": {},
   "outputs": [
    {
     "data": {
      "image/png": "[encoded data removed]",
      "text/plain": [
       "<Figure size 640x480 with 1 Axes>"
      ]
     },
     "metadata": {},
     "output_type": "display_data"
    },
    {
     "data": {
      "image/png": "[encoded data removed]",
      "text/plain": [
       "<Figure size 640x480 with 1 Axes>"
      ]
     },
     "metadata": {},
     "output_type": "display_data"
    }
   ],
   "source": [
    "# X=data4.id_chat()\n",
    "y=data4['count']\n",
    "sns.lineplot(data4)\n",
    "plt.figure(50)\n",
    "plt.xticks(ticks=range(0, 70))\n",
    "# plt.plot(y, y, c='red', lw=4, ls='--', alpha=0.8)\n",
    "plt.show()"
   ]
  },
  {
   "cell_type": "code",
   "execution_count": 65,
   "id": "e9b85aa4-7651-49c8-9390-7eaae3c56960",
   "metadata": {},
   "outputs": [
    {
     "data": {
      "text/plain": [
       "(70, 5)"
      ]
     },
     "execution_count": 65,
     "metadata": {},
     "output_type": "execute_result"
    }
   ],
   "source": [
    "data.shape\n"
   ]
  },
  {
   "cell_type": "markdown",
   "id": "74888aee-454c-4b78-9f5b-4fca23b49c3f",
   "metadata": {},
   "source": [
    "# Sklearn : Pre-processing\n"
   ]
  },
  {
   "cell_type": "markdown",
   "id": "bba3f9db-bda0-40ad-844b-a5a3716567b7",
   "metadata": {},
   "source": [
    "## 1. Encodage"
   ]
  },
  {
   "cell_type": "code",
   "execution_count": 55,
   "id": "6b4b00f1-0bd5-4f0e-80d1-285f51f49fba",
   "metadata": {},
   "outputs": [],
   "source": [
    "from sklearn.preprocessing import LabelEncoder"
   ]
  },
  {
   "cell_type": "code",
   "execution_count": 65,
   "id": "a6c9d040-d620-46ba-9bc5-1b7ef0734558",
   "metadata": {},
   "outputs": [
    {
     "data": {
      "text/plain": [
       "array([ 0,  3, 15, 12, 35,  4, 31, 11, 35, 25, 33, 33, 16, 13,  8, 17, 25,\n",
       "       23, 22, 26, 30, 27, 32, 34, 21,  2, 18, 18, 18, 32, 35, 19, 10,  7,\n",
       "       11,  1, 30, 24, 13, 13, 29,  6, 14, 30, 28, 25, 16,  9,  5, 20])"
      ]
     },
     "execution_count": 65,
     "metadata": {},
     "output_type": "execute_result"
    }
   ],
   "source": [
    "y =  data['username']\n",
    "\n",
    "encoder = LabelEncoder()\n",
    "y_encode = encoder.fit_transform(y)\n",
    "y_encode"
   ]
  },
  {
   "cell_type": "markdown",
   "id": "0bde781a-de47-46d9-9650-f9e8dd545590",
   "metadata": {},
   "source": [
    "## 2- Decodage"
   ]
  },
  {
   "cell_type": "code",
   "execution_count": 133,
   "id": "523f28aa-9096-43ee-98a3-19b7bf626d45",
   "metadata": {},
   "outputs": [
    {
     "data": {
      "text/plain": [
       "array(['Amadou', 'Andre', 'Esther', 'Corinne', 'Yannick', 'André',\n",
       "       'Thierry', 'Claire', 'Yannick', 'Patricia', 'Valerie', 'Valerie',\n",
       "       'Fabrice', 'David', 'Celestin', 'Florence', 'Patricia', 'Marie',\n",
       "       'Koffi', 'Paul', 'Samuel', 'Pierre', 'Thomas', 'Viviane',\n",
       "       'Josiane', 'Amoudou', 'Gabriel', 'Gabriel', 'Gabriel', 'Thomas',\n",
       "       'Yannick', 'Isabelle', 'Chantal', 'Brigitte', 'Claire', 'Amelie',\n",
       "       'Samuel', 'Martin', 'David', 'David', 'Salenom', 'Bernad', 'Eric',\n",
       "       'Samuel', 'Rose', 'Patricia', 'Fabrice', 'Celistin', 'Ange',\n",
       "       'Ismael'], dtype=object)"
      ]
     },
     "execution_count": 133,
     "metadata": {},
     "output_type": "execute_result"
    }
   ],
   "source": [
    "encoder.inverse_transform(y_encode)"
   ]
  },
  {
   "cell_type": "markdown",
   "id": "1ed5cce0-ae36-46e8-8a24-0650dbaa3469",
   "metadata": {},
   "source": [
    "## Normalisation"
   ]
  },
  {
   "cell_type": "code",
   "execution_count": 60,
   "id": "86af837e-36b0-4db7-aad7-1fce9078b569",
   "metadata": {},
   "outputs": [],
   "source": [
    " from sklearn.preprocessing import MinMaxScaler"
   ]
  },
  {
   "cell_type": "markdown",
   "id": "7b900282-9cb6-44d6-9c8e-4640f73f1d85",
   "metadata": {},
   "source": [
    "## MinMaxScaler"
   ]
  },
  {
   "cell_type": "code",
   "execution_count": 228,
   "id": "e1d7df57-264a-49db-a817-f0ed888426ce",
   "metadata": {},
   "outputs": [
    {
     "data": {
      "text/plain": [
       "username\n",
       "18    3\n",
       "13    3\n",
       "30    3\n",
       "25    3\n",
       "35    3\n",
       "33    2\n",
       "32    2\n",
       "11    2\n",
       "16    2\n",
       "5     1\n",
       "22    1\n",
       "34    1\n",
       "31    1\n",
       "2     1\n",
       "29    1\n",
       "28    1\n",
       "27    1\n",
       "26    1\n",
       "3     1\n",
       "24    1\n",
       "23    1\n",
       "20    1\n",
       "21    1\n",
       "6     1\n",
       "19    1\n",
       "1     1\n",
       "17    1\n",
       "15    1\n",
       "14    1\n",
       "4     1\n",
       "12    1\n",
       "10    1\n",
       "9     1\n",
       "8     1\n",
       "7     1\n",
       "0     1\n",
       "Name: question, dtype: int64"
      ]
     },
     "execution_count": 228,
     "metadata": {},
     "output_type": "execute_result"
    }
   ],
   "source": [
    "data_transform = data\n",
    "data_transform['username'] = y_encode\n",
    "data_transform['count'] = df5['question']\n",
    "data_transform.drop( columns= [\"response\",\"date\"])\n",
    "data_transform.groupby('username').count()[\"question\"].sort_values(ascending=False) \n",
    "# data_transforms ['username2'] = data_transform['username']\n",
    "# data_transform\n",
    "# data_transforms.drop(columns=['username2'], axis= 0)\n",
    "# data_transforms\n",
    "# ddd = [i for i in range(len(df5))]\n",
    "# for i in range(len(df5)):\n",
    "#     if data_transforms[i]:\n",
    "#         data_transforms[i] \n",
    "# data_transforms[ddd]\n"
   ]
  },
  {
   "cell_type": "code",
   "execution_count": null,
   "id": "a39b467f-481b-4e28-af0c-563c526ac99f",
   "metadata": {},
   "outputs": [],
   "source": []
  },
  {
   "cell_type": "code",
   "execution_count": 238,
   "id": "e9ba0b16-7c4c-48f5-9993-c2522e01111a",
   "metadata": {},
   "outputs": [
    {
     "data": {
      "text/plain": [
       "<matplotlib.collections.PathCollection at 0x160c214e840>"
      ]
     },
     "execution_count": 238,
     "metadata": {},
     "output_type": "execute_result"
    },
    {
     "data": {
      "image/png": "[encoded data removed]",
      "text/plain": [
       "<Figure size 640x480 with 1 Axes>"
      ]
     },
     "metadata": {},
     "output_type": "display_data"
    }
   ],
   "source": [
    "\n",
    "X_minmax = MinMaxScaler().fit_transform([y_encode,data_transform['username'] ])\n",
    "\n",
    "plt.scatter(data_transform['question'] , data_transform['username'] )\n",
    "# plt.scatter(X_minmax[data_transform[\"username\"]], X_minmax[data_transform['username']])"
   ]
  },
  {
   "cell_type": "markdown",
   "id": "acd1681c-4b4f-4303-81f8-bdec1856f2f9",
   "metadata": {},
   "source": [
    "## Algorithme de regression lineaire"
   ]
  },
  {
   "cell_type": "markdown",
   "id": "e76ce155-4e77-48fb-bb40-88f2aeb1b4a3",
   "metadata": {},
   "source": []
  },
  {
   "cell_type": "code",
   "execution_count": null,
   "id": "32d7693e-23c0-4881-a6a6-214c893d22c5",
   "metadata": {},
   "outputs": [],
   "source": []
  },
  {
   "cell_type": "code",
   "execution_count": 46,
   "id": "b7a27cf3-a922-42dd-b66e-132c29eba37b",
   "metadata": {},
   "outputs": [],
   "source": [
    "from sklearn.datasets import make_regression"
   ]
  },
  {
   "cell_type": "code",
   "execution_count": 52,
   "id": "5bab3472-fc74-46be-aec3-7f970f0b440c",
   "metadata": {},
   "outputs": [
    {
     "ename": "NameError",
     "evalue": "name 'data4' is not defined",
     "output_type": "error",
     "traceback": [
      "\u001b[1;31m---------------------------------------------------------------------------\u001b[0m",
      "\u001b[1;31mNameError\u001b[0m                                 Traceback (most recent call last)",
      "Cell \u001b[1;32mIn[52], line 2\u001b[0m\n\u001b[0;32m      1\u001b[0m np\u001b[38;5;241m.\u001b[39mrandom\u001b[38;5;241m.\u001b[39mseed(\u001b[38;5;241m0\u001b[39m) \u001b[38;5;66;03m# pour toujours reproduire le meme dataset\u001b[39;00m\n\u001b[1;32m----> 2\u001b[0m x, y \u001b[38;5;241m=\u001b[39m make_regression(n_samples\u001b[38;5;241m=\u001b[39m\u001b[38;5;28mlen\u001b[39m(data4[\u001b[38;5;124m'\u001b[39m\u001b[38;5;124mcount\u001b[39m\u001b[38;5;124m'\u001b[39m]), n_features\u001b[38;5;241m=\u001b[39m\u001b[38;5;241m1\u001b[39m, noise\u001b[38;5;241m=\u001b[39m \u001b[38;5;241m10\u001b[39m)\n\u001b[0;32m      3\u001b[0m \u001b[38;5;66;03m# plt.xlabel('nombre de clusters')\u001b[39;00m\n\u001b[0;32m      4\u001b[0m \u001b[38;5;66;03m# plt.ylabel('Cout du modele (Inertia)')\u001b[39;00m\n\u001b[0;32m      5\u001b[0m plt\u001b[38;5;241m.\u001b[39mscatter(x, y)\n",
      "\u001b[1;31mNameError\u001b[0m: name 'data4' is not defined"
     ]
    }
   ],
   "source": [
    "np.random.seed(0) # pour toujours reproduire le meme dataset\n",
    "x, y = make_regression(n_samples=len(data4['count']), n_features=1, noise= 10)\n",
    "plt.xlabel('nombre de question')\n",
    "plt.ylabel('Personne')\n",
    "plt.scatter(x, y) # afficher les résultats. X en abscisse et y en ordonnée"
   ]
  },
  {
   "cell_type": "code",
   "execution_count": 30,
   "id": "f3951824-2c1d-4b8d-b5a9-67c0ac423de2",
   "metadata": {},
   "outputs": [
    {
     "name": "stdout",
     "output_type": "stream",
     "text": [
      "(68, 1)\n",
      "(68,)\n"
     ]
    }
   ],
   "source": [
    "print(x.shape)\n",
    "print(y.shape)"
   ]
  },
  {
   "cell_type": "markdown",
   "id": "6a6a9fda-abcf-4ccb-95b7-eeafd1a491b7",
   "metadata": {},
   "source": [
    "### Y: Represente le nombre de question posée par chaque etudiant"
   ]
  },
  {
   "cell_type": "markdown",
   "id": "a8fdb3ab-b3df-4908-8efe-a86530871151",
   "metadata": {},
   "source": [
    " Création de la matrice X qui contient la colonne de Biais. Pour ca, on colle l'un contre l'autre le vecteur x et un vecteur 1 (avec np.ones) de dimension égale a celle de x"
   ]
  },
  {
   "cell_type": "code",
   "execution_count": 32,
   "id": "ff3eab66-d8e2-4d46-942d-a89c40a4281c",
   "metadata": {},
   "outputs": [
    {
     "name": "stdout",
     "output_type": "stream",
     "text": [
      "(68, 2)\n"
     ]
    }
   ],
   "source": [
    "X = np.hstack((x, np.ones(x.shape)))\n",
    "print(X.shape)"
   ]
  },
  {
   "cell_type": "markdown",
   "id": "209ec7c9-1cbf-4939-9e9e-8e492c6d81d8",
   "metadata": {},
   "source": [
    "## 2. Modele Linéaire"
   ]
  },
  {
   "cell_type": "markdown",
   "id": "361e3e59-cf05-4121-afe3-3fc8753a3a3e",
   "metadata": {},
   "source": [
    "On implémente un modele F = XO,  puis on teste le modele pour voir s'il n'y a pas de bug (bonne pratique oblige). En plus, cela permet de voir a quoi ressemble le modele initial, défini par la valeur de "
   ]
  },
  {
   "cell_type": "code",
   "execution_count": 33,
   "id": "1514ea1d-ac4c-4f0d-8372-593081e90320",
   "metadata": {},
   "outputs": [],
   "source": [
    "def model(X, theta):\n",
    "    return X.dot(theta)"
   ]
  },
  {
   "cell_type": "code",
   "execution_count": 36,
   "id": "2f2586b5-f94f-4b8f-af8e-897ac4e9f50d",
   "metadata": {},
   "outputs": [
    {
     "data": {
      "text/plain": [
       "[<matplotlib.lines.Line2D at 0x1e3f011bbc0>,\n",
       " <matplotlib.lines.Line2D at 0x1e3f0e2cce0>]"
      ]
     },
     "execution_count": 36,
     "metadata": {},
     "output_type": "execute_result"
    },
    {
     "data": {
      "image/png": "[encoded data removed]",
      "text/plain": [
       "<Figure size 640x480 with 1 Axes>"
      ]
     },
     "metadata": {},
     "output_type": "display_data"
    }
   ],
   "source": [
    "plt.scatter(x, y)\n",
    "theta=50\n",
    "plt.plot(x, model(X, theta), c='r')"
   ]
  },
  {
   "cell_type": "markdown",
   "id": "76bb0397-1b60-42cb-a590-9be8940dd6f2",
   "metadata": {},
   "source": [
    "# 3. Fonction Cout :  Erreur Quadratique moyenne\n",
    "On mesure les erreurs du modele sur le Dataset X, y en implémenterl'erreur quadratique moyenne,  **Mean Squared Error (MSE)** en anglais.\n",
    "\n",
    "$ J(\\theta) = \\frac{1}{2m} \\sum (X.\\theta - y)^2 $\n",
    "\n",
    "Ensuite, on teste notre fonction, pour voir s'il n'y a pas de bug"
   ]
  },
  {
   "cell_type": "code",
   "execution_count": 37,
   "id": "1f648d2b-80db-43f8-9fa7-a91b94b0f819",
   "metadata": {},
   "outputs": [
    {
     "data": {
      "text/plain": [
       "68"
      ]
     },
     "execution_count": 37,
     "metadata": {},
     "output_type": "execute_result"
    }
   ],
   "source": [
    "len(x)"
   ]
  },
  {
   "cell_type": "code",
   "execution_count": 39,
   "id": "fbfb3651-0fad-476f-865d-9f7b7a51ccc3",
   "metadata": {},
   "outputs": [],
   "source": [
    "def cost_function(X, y, theta):\n",
    "    m = len(y)\n",
    "    return 1/(2*m) * np.sum((model(X, theta) - y)**2)"
   ]
  },
  {
   "cell_type": "code",
   "execution_count": 40,
   "id": "69ac8e4f-c718-4139-93f5-5312d0863869",
   "metadata": {},
   "outputs": [
    {
     "data": {
      "text/plain": [
       "1324.7127298197224"
      ]
     },
     "execution_count": 40,
     "metadata": {},
     "output_type": "execute_result"
    }
   ],
   "source": [
    "cost_function(x, x, theta)"
   ]
  },
  {
   "cell_type": "markdown",
   "id": "88efae5f-6508-4192-9875-6edd69b932f9",
   "metadata": {},
   "source": [
    "# 4. Gradients et Descente de Gradient\n",
    "On implémente la formule du gradient pour la **MSE**\n",
    "\n",
    "$\\frac{\\partial J(\\theta) }{\\partial \\theta} = \\frac{1}{m} X^T.(X.\\theta - y)$\n",
    "\n",
    "Ensuite on utilise cette fonction dans la descente de gradient:\n",
    "\n",
    "$\\theta = \\theta - \\alpha \\frac{\\partial J(\\theta) }{\\partial \\theta}$\n"
   ]
  },
  {
   "cell_type": "markdown",
   "id": "ef7d74e4-fa7b-4dbb-9a3b-d24c399df7ca",
   "metadata": {},
   "source": [
    "n_iterations = 1000\n",
    "learning_rate = 0.01\n",
    "\n",
    "\n",
    "theta_final, cost_history = gradient_descent(X, y, theta, learning_rate, n_iterations)"
   ]
  },
  {
   "cell_type": "code",
   "execution_count": 41,
   "id": "4db59c1f-f97c-499c-b669-594bf81cefc1",
   "metadata": {},
   "outputs": [],
   "source": [
    "def grad(X, y, theta):\n",
    "    m = len(y)\n",
    "    return 1/m * X.T.dot(model(X, theta) - y)"
   ]
  },
  {
   "cell_type": "code",
   "execution_count": null,
   "id": "0549ceee-f2e9-4136-ae57-a44837be1c74",
   "metadata": {},
   "outputs": [],
   "source": [
    "theta_final # voici les parametres du modele une fois que la machine a été entrainée"
   ]
  },
  {
   "cell_type": "code",
   "execution_count": 42,
   "id": "f5a3b95a-b406-4f22-949b-297b6d8b3f13",
   "metadata": {},
   "outputs": [],
   "source": [
    "def gradient_descent(X, y, theta, learning_rate, n_iterations):\n",
    "    \n",
    "    cost_history = np.zeros(n_iterations) # création d'un tableau de stockage pour enregistrer l'évolution du Cout du modele\n",
    "    \n",
    "    for i in range(0, n_iterations):\n",
    "        theta = theta - learning_rate * grad(X, y, theta) # mise a jour du parametre theta (formule du gradient descent)\n",
    "        cost_history[i] = cost_function(X, y, theta) # on enregistre la valeur du Cout au tour i dans cost_history[i]\n",
    "        \n",
    "    return theta, cost_history"
   ]
  },
  {
   "cell_type": "markdown",
   "id": "d097021f-701a-4db4-bc27-f5b853b8eda3",
   "metadata": {},
   "source": [
    "# Phase d'entrainement\n",
    "On définit un **nombre d'itérations**, ainsi qu'un **pas d'apprentissage $\\alpha$**, et c'est partit !\n",
    "\n",
    "Une fois le modele entrainé, on observe les resultats par rapport a notre Dataset"
   ]
  },
  {
   "cell_type": "code",
   "execution_count": 43,
   "id": "e12c7ac4-4263-4ed0-9eec-0ee6d075149a",
   "metadata": {},
   "outputs": [],
   "source": [
    "n_iterations = 1000\n",
    "learning_rate = 0.01\n",
    "\n",
    "\n",
    "theta_final, cost_history = gradient_descent(x,x, theta, learning_rate, n_iterations)"
   ]
  },
  {
   "cell_type": "code",
   "execution_count": 134,
   "id": "7c312391-ad06-4b08-a6e4-886fdd634f70",
   "metadata": {},
   "outputs": [
    {
     "data": {
      "text/plain": [
       "array([[1.00135038]])"
      ]
     },
     "execution_count": 134,
     "metadata": {},
     "output_type": "execute_result"
    }
   ],
   "source": [
    "theta_final # voici les parametres du modele une fois que la machine a été entrainée"
   ]
  },
  {
   "cell_type": "code",
   "execution_count": 44,
   "id": "db175bf3-e77d-4571-bf9d-578b63444e7c",
   "metadata": {},
   "outputs": [
    {
     "data": {
      "text/plain": [
       "[<matplotlib.lines.Line2D at 0x1e3f0850fe0>]"
      ]
     },
     "execution_count": 44,
     "metadata": {},
     "output_type": "execute_result"
    },
    {
     "data": {
      "image/png": "[encoded data removed]",
      "text/plain": [
       "<Figure size 640x480 with 1 Axes>"
      ]
     },
     "metadata": {},
     "output_type": "display_data"
    }
   ],
   "source": [
    "# création d'un vecteur prédictions qui contient les prédictions de notre modele final\n",
    "predictions = model(x, theta_final)\n",
    "\n",
    "# Affiche les résultats de prédictions (en rouge) par rapport a notre Dataset (en bleu)\n",
    "plt.scatter(x, y)\n",
    "plt.plot(x, predictions, c='r')"
   ]
  },
  {
   "cell_type": "markdown",
   "id": "ea94ca05-eda1-49a0-8d80-58a3fd696ef9",
   "metadata": {},
   "source": [
    "# Courbes d'apprentissage\n",
    "Pour vérifier si notre algorithme de Descente de gradient a bien fonctionné, on observe l'évolution de la fonction cout a travers les itérations. On est sensé obtenir une courbe qui diminue a chaque itération jusqu'a stagner a un niveau minimal (proche de zéro). Si la courbe ne suit pas ce motif, alors le pas **learning_rate** est peut-etre trop élevé, il faut prendre un pas plus faible."
   ]
  },
  {
   "cell_type": "code",
   "execution_count": 45,
   "id": "08347e4d-8849-45fe-ad76-32f7257f7607",
   "metadata": {},
   "outputs": [
    {
     "data": {
      "text/plain": [
       "[<matplotlib.lines.Line2D at 0x1e3f0d4cda0>]"
      ]
     },
     "execution_count": 45,
     "metadata": {},
     "output_type": "execute_result"
    },
    {
     "data": {
      "image/png": "[encoded data removed]",
      "text/plain": [
       "<Figure size 640x480 with 1 Axes>"
      ]
     },
     "metadata": {},
     "output_type": "display_data"
    }
   ],
   "source": [
    "plt.plot(range(n_iterations), cost_history)"
   ]
  },
  {
   "cell_type": "markdown",
   "id": "8d99fd8a-0302-4318-97e8-8b47c532379a",
   "metadata": {},
   "source": [
    "# 7. Evaluation finale\n",
    "Pour évaluer la réelle performance de notre modele avec une métrique populaire (pour votre patron, client, ou vos collegues) on peut utiliser le **coefficient de détermination**, aussi connu sous le nom $R^2$. Il nous vient de la méthode des moindres carrés. Plus le résultat est proche de 1, meilleur est votre modele"
   ]
  },
  {
   "cell_type": "code",
   "execution_count": 146,
   "id": "f6e9b541-139b-47bb-a7ae-20f71d6421de",
   "metadata": {},
   "outputs": [],
   "source": [
    "def coef_determination(y, pred):\n",
    "    u = ((y - pred)**2).sum()\n",
    "    v = ((y - y.mean())**2).sum()\n",
    "    return 1 - u/v"
   ]
  },
  {
   "cell_type": "code",
   "execution_count": 147,
   "id": "fae7c9f1-eed1-4915-8096-32bc3403371a",
   "metadata": {},
   "outputs": [
    {
     "data": {
      "text/plain": [
       "-67.90766059932749"
      ]
     },
     "execution_count": 147,
     "metadata": {},
     "output_type": "execute_result"
    }
   ],
   "source": [
    "coef_determination(y, predictions)"
   ]
  },
  {
   "cell_type": "markdown",
   "id": "0d6e3852-70f2-4c1b-ac1e-ce1e2cfb2a57",
   "metadata": {},
   "source": [
    "# 24/30 Apprentissage Non-Supervisé"
   ]
  },
  {
   "cell_type": "code",
   "execution_count": 148,
   "id": "f368693f-c90d-4b63-a463-0d6025164472",
   "metadata": {},
   "outputs": [],
   "source": []
  },
  {
   "cell_type": "markdown",
   "id": "af73cb7e-c207-42cf-ad78-3a40c00cdc3a",
   "metadata": {},
   "source": [
    "## 1. K-Means Clustering"
   ]
  },
  {
   "cell_type": "code",
   "execution_count": 149,
   "id": "c8633b99-9bf2-4945-82ba-a3c58c6b86a9",
   "metadata": {},
   "outputs": [
    {
     "data": {
      "text/plain": [
       "<matplotlib.collections.PathCollection at 0x16893f40a40>"
      ]
     },
     "execution_count": 149,
     "metadata": {},
     "output_type": "execute_result"
    },
    {
     "data": {
      "image/png": "[encoded data removed]",
      "text/plain": [
       "<Figure size 640x480 with 1 Axes>"
      ]
     },
     "metadata": {},
     "output_type": "display_data"
    }
   ],
   "source": [
    "# Génération de données\n",
    "X, y = make_blobs(n_samples=len(x), centers=3, cluster_std=0.4, random_state=0)\n",
    "plt.scatter(X[:,0], X[:,1])"
   ]
  },
  {
   "cell_type": "code",
   "execution_count": 151,
   "id": "fd995066-9d4e-478c-bca3-aaab44a4f09e",
   "metadata": {},
   "outputs": [],
   "source": [
    "from sklearn.cluster import KMeans"
   ]
  },
  {
   "cell_type": "code",
   "execution_count": 152,
   "id": "3d3f003a-6ab7-45a6-af3b-5d86295672f0",
   "metadata": {},
   "outputs": [
    {
     "name": "stderr",
     "output_type": "stream",
     "text": [
      "C:\\ProgramData\\anaconda3\\Lib\\site-packages\\joblib\\externals\\loky\\backend\\context.py:136: UserWarning: Could not find the number of physical cores for the following reason:\n",
      "[WinError 2] The system cannot find the file specified\n",
      "Returning the number of logical cores instead. You can silence this warning by setting LOKY_MAX_CPU_COUNT to the number of cores you want to use.\n",
      "  warnings.warn(\n",
      "  File \"C:\\ProgramData\\anaconda3\\Lib\\site-packages\\joblib\\externals\\loky\\backend\\context.py\", line 257, in _count_physical_cores\n",
      "    cpu_info = subprocess.run(\n",
      "               ^^^^^^^^^^^^^^^\n",
      "  File \"C:\\ProgramData\\anaconda3\\Lib\\subprocess.py\", line 548, in run\n",
      "    with Popen(*popenargs, **kwargs) as process:\n",
      "         ^^^^^^^^^^^^^^^^^^^^^^^^^^^\n",
      "  File \"C:\\ProgramData\\anaconda3\\Lib\\subprocess.py\", line 1026, in __init__\n",
      "    self._execute_child(args, executable, preexec_fn, close_fds,\n",
      "  File \"C:\\ProgramData\\anaconda3\\Lib\\subprocess.py\", line 1538, in _execute_child\n",
      "    hp, ht, pid, tid = _winapi.CreateProcess(executable, args,\n",
      "                       ^^^^^^^^^^^^^^^^^^^^^^^^^^^^^^^^^^^^^^^\n",
      "C:\\ProgramData\\anaconda3\\Lib\\site-packages\\sklearn\\cluster\\_kmeans.py:1446: UserWarning: KMeans is known to have a memory leak on Windows with MKL, when there are less chunks than available threads. You can avoid it by setting the environment variable OMP_NUM_THREADS=1.\n",
      "  warnings.warn(\n"
     ]
    },
    {
     "data": {
      "text/plain": [
       "-20.60139833068814"
      ]
     },
     "execution_count": 152,
     "metadata": {},
     "output_type": "execute_result"
    },
    {
     "data": {
      "image/png": "[encoded data removed]",
      "text/plain": [
       "<Figure size 640x480 with 1 Axes>"
      ]
     },
     "metadata": {},
     "output_type": "display_data"
    }
   ],
   "source": [
    "model = KMeans(n_clusters=3)\n",
    "model.fit(X)\n",
    "model.predict(X)\n",
    "plt.scatter(X[:,0], X[:,1], c=model.predict(X))\n",
    "plt.scatter(model.cluster_centers_[:,0], model.cluster_centers_[:,1], c='r')\n",
    "# model.inertia_\n",
    "model.score(X)"
   ]
  },
  {
   "cell_type": "code",
   "execution_count": null,
   "id": "a5181f9f-bbc2-432c-812e-f1c264b5326c",
   "metadata": {},
   "outputs": [],
   "source": []
  }
 ],
 "metadata": {
  "kernelspec": {
   "display_name": "Python 3 (ipykernel)",
   "language": "python",
   "name": "python3"
  },
  "language_info": {
   "codemirror_mode": {
    "name": "ipython",
    "version": 3
   },
   "file_extension": ".py",
   "mimetype": "text/x-python",
   "name": "python",
   "nbconvert_exporter": "python",
   "pygments_lexer": "ipython3",
   "version": "3.12.4"
  }
 },
 "nbformat": 4,
 "nbformat_minor": 5
}
